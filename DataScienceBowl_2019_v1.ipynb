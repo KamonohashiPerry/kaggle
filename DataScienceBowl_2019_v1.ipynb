{
  "nbformat": 4,
  "nbformat_minor": 0,
  "metadata": {
    "colab": {
      "name": "DataScienceBowl_2019_v1.ipynb",
      "provenance": [],
      "collapsed_sections": [],
      "machine_shape": "hm",
      "authorship_tag": "ABX9TyNYBBT3YRFt1Zs6baFo/2rL",
      "include_colab_link": true
    },
    "kernelspec": {
      "name": "python3",
      "display_name": "Python 3"
    }
  },
  "cells": [
    {
      "cell_type": "markdown",
      "metadata": {
        "id": "view-in-github",
        "colab_type": "text"
      },
      "source": [
        "<a href=\"https://colab.research.google.com/github/KamonohashiPerry/kaggle/blob/master/DataScienceBowl_2019_v1.ipynb\" target=\"_parent\"><img src=\"https://colab.research.google.com/assets/colab-badge.svg\" alt=\"Open In Colab\"/></a>"
      ]
    },
    {
      "cell_type": "code",
      "metadata": {
        "id": "tEMLwiifHPvK",
        "colab_type": "code",
        "colab": {}
      },
      "source": [
        "from google.colab import files"
      ],
      "execution_count": 0,
      "outputs": []
    },
    {
      "cell_type": "code",
      "metadata": {
        "id": "5GjDmHNCHVl4",
        "colab_type": "code",
        "outputId": "89a8948d-4137-4aac-ec4e-ca46ce9d9a46",
        "colab": {
          "base_uri": "https://localhost:8080/",
          "height": 34
        }
      },
      "source": [
        "from googleapiclient.discovery import build\n",
        "import io, os\n",
        "from googleapiclient.http import MediaIoBaseDownload\n",
        "from google.colab import auth\n",
        "\n",
        "auth.authenticate_user()\n",
        "\n",
        "drive_service = build('drive', 'v3')\n",
        "results = drive_service.files().list(\n",
        "        q=\"name = 'kaggle.json'\", fields=\"files(id)\").execute()\n",
        "kaggle_api_key = results.get('files', [])\n",
        "\n",
        "filename =  \"/root/.kaggle/kaggle.json\"\n",
        "os.makedirs(os.path.dirname(filename), exist_ok=True)\n",
        "\n",
        "request = drive_service.files().get_media(fileId=kaggle_api_key[0]['id'])\n",
        "fh = io.FileIO(filename, 'wb')\n",
        "downloader = MediaIoBaseDownload(fh, request)\n",
        "done = False\n",
        "while done is False:\n",
        "    status, done = downloader.next_chunk()\n",
        "    print(\"Download %d%%.\" % int(status.progress() * 100))\n",
        "os.chmod(filename, 600)"
      ],
      "execution_count": 2,
      "outputs": [
        {
          "output_type": "stream",
          "text": [
            "Download 100%.\n"
          ],
          "name": "stdout"
        }
      ]
    },
    {
      "cell_type": "code",
      "metadata": {
        "id": "KHBWht34HWgW",
        "colab_type": "code",
        "outputId": "4f571f21-c69d-4070-e0de-3163c23ba298",
        "colab": {
          "base_uri": "https://localhost:8080/",
          "height": 224
        }
      },
      "source": [
        "!pip install kaggle"
      ],
      "execution_count": 3,
      "outputs": [
        {
          "output_type": "stream",
          "text": [
            "Requirement already satisfied: kaggle in /usr/local/lib/python3.6/dist-packages (1.5.6)\n",
            "Requirement already satisfied: six>=1.10 in /usr/local/lib/python3.6/dist-packages (from kaggle) (1.12.0)\n",
            "Requirement already satisfied: python-dateutil in /usr/local/lib/python3.6/dist-packages (from kaggle) (2.6.1)\n",
            "Requirement already satisfied: urllib3<1.25,>=1.21.1 in /usr/local/lib/python3.6/dist-packages (from kaggle) (1.24.3)\n",
            "Requirement already satisfied: certifi in /usr/local/lib/python3.6/dist-packages (from kaggle) (2019.11.28)\n",
            "Requirement already satisfied: tqdm in /usr/local/lib/python3.6/dist-packages (from kaggle) (4.28.1)\n",
            "Requirement already satisfied: python-slugify in /usr/local/lib/python3.6/dist-packages (from kaggle) (4.0.0)\n",
            "Requirement already satisfied: requests in /usr/local/lib/python3.6/dist-packages (from kaggle) (2.21.0)\n",
            "Requirement already satisfied: text-unidecode>=1.3 in /usr/local/lib/python3.6/dist-packages (from python-slugify->kaggle) (1.3)\n",
            "Requirement already satisfied: idna<2.9,>=2.5 in /usr/local/lib/python3.6/dist-packages (from requests->kaggle) (2.8)\n",
            "Requirement already satisfied: chardet<3.1.0,>=3.0.2 in /usr/local/lib/python3.6/dist-packages (from requests->kaggle) (3.0.4)\n"
          ],
          "name": "stdout"
        }
      ]
    },
    {
      "cell_type": "code",
      "metadata": {
        "id": "e06jEXH7HX6l",
        "colab_type": "code",
        "outputId": "04b99356-2b65-4909-a2cb-04d62c092770",
        "colab": {
          "base_uri": "https://localhost:8080/",
          "height": 408
        }
      },
      "source": [
        "!kaggle competitions list"
      ],
      "execution_count": 4,
      "outputs": [
        {
          "output_type": "stream",
          "text": [
            "Warning: Looks like you're using an outdated API Version, please consider updating (server 1.5.6 / client 1.5.4)\n",
            "ref                                            deadline             category             reward  teamCount  userHasEntered  \n",
            "---------------------------------------------  -------------------  ---------------  ----------  ---------  --------------  \n",
            "digit-recognizer                               2030-01-01 00:00:00  Getting Started   Knowledge       2281           False  \n",
            "titanic                                        2030-01-01 00:00:00  Getting Started   Knowledge      16115            True  \n",
            "house-prices-advanced-regression-techniques    2030-01-01 00:00:00  Getting Started   Knowledge       5344            True  \n",
            "connectx                                       2030-01-01 00:00:00  Getting Started   Knowledge        234           False  \n",
            "imagenet-object-localization-challenge         2029-12-31 07:00:00  Research          Knowledge         62           False  \n",
            "competitive-data-science-predict-future-sales  2020-12-31 23:59:00  Playground            Kudos       5432            True  \n",
            "deepfake-detection-challenge                   2020-03-31 23:59:00  Featured         $1,000,000        999           False  \n",
            "cat-in-the-dat-ii                              2020-03-31 23:59:00  Playground             Swag        212           False  \n",
            "nlp-getting-started                            2020-03-23 23:59:00  Getting Started     $10,000       1330           False  \n",
            "bengaliai-cv19                                 2020-03-16 23:59:00  Research            $10,000        547           False  \n",
            "google-quest-challenge                         2020-02-10 23:59:00  Featured            $25,000        913           False  \n",
            "tensorflow2-question-answering                 2020-01-22 23:59:00  Featured            $50,000       1150           False  \n",
            "data-science-bowl-2019                         2020-01-22 23:59:00  Featured           $160,000       3209            True  \n",
            "pku-autonomous-driving                         2020-01-21 23:59:00  Featured            $25,000        828           False  \n",
            "santa-2019-revenge-of-the-accountants          2020-01-16 23:59:00  Playground             Swag         94           False  \n",
            "santa-workshop-tour-2019                       2020-01-15 23:59:00  Featured            $25,000       1590            True  \n",
            "nfl-big-data-bowl-2020                         2020-01-06 23:59:00  Featured            $75,000       2038           False  \n",
            "nfl-playing-surface-analytics                  2020-01-02 23:59:00  Analytics           $75,000          0           False  \n",
            "ashrae-energy-prediction                       2019-12-19 23:59:00  Featured            $25,000       3614           False  \n",
            "Kannada-MNIST                                  2019-12-17 23:59:00  Playground        Knowledge       1214           False  \n"
          ],
          "name": "stdout"
        }
      ]
    },
    {
      "cell_type": "code",
      "metadata": {
        "id": "kRvBrEPrHZOm",
        "colab_type": "code",
        "outputId": "6fa2b5e9-b9c0-49ef-85fe-abb600dee808",
        "colab": {
          "base_uri": "https://localhost:8080/",
          "height": 119
        }
      },
      "source": [
        "!kaggle competitions download -c data-science-bowl-2019"
      ],
      "execution_count": 5,
      "outputs": [
        {
          "output_type": "stream",
          "text": [
            "Warning: Looks like you're using an outdated API Version, please consider updating (server 1.5.6 / client 1.5.4)\n",
            "train.csv.zip: Skipping, found more recently modified local copy (use --force to force download)\n",
            "specs.csv: Skipping, found more recently modified local copy (use --force to force download)\n",
            "test.csv.zip: Skipping, found more recently modified local copy (use --force to force download)\n",
            "train_labels.csv.zip: Skipping, found more recently modified local copy (use --force to force download)\n",
            "sample_submission.csv: Skipping, found more recently modified local copy (use --force to force download)\n"
          ],
          "name": "stdout"
        }
      ]
    },
    {
      "cell_type": "code",
      "metadata": {
        "id": "ArAwZCxWHjbz",
        "colab_type": "code",
        "colab": {}
      },
      "source": [
        "import pandas as pd\n",
        "import numpy as np\n",
        "import seaborn as sns\n",
        "import matplotlib.pylab as plt\n",
        "from IPython.display import HTML\n",
        "import warnings\n",
        "\n",
        "pd.set_option('max_columns', 100)\n",
        "pd.set_option('max_colwidth', 200)\n",
        "pd.set_option('max_rows', 100)\n",
        "\n",
        "warnings.filterwarnings('ignore')\n",
        "sns.set_style('whitegrid')\n",
        "my_pal = sns.color_palette(n_colors=10)"
      ],
      "execution_count": 0,
      "outputs": []
    },
    {
      "cell_type": "code",
      "metadata": {
        "id": "mgeRXeGkJmcB",
        "colab_type": "code",
        "outputId": "3a6dca2b-2db0-436e-bce9-e567a0beb168",
        "colab": {
          "base_uri": "https://localhost:8080/",
          "height": 204
        }
      },
      "source": [
        "ls -GFlash"
      ],
      "execution_count": 7,
      "outputs": [
        {
          "output_type": "stream",
          "text": [
            "total 439M\n",
            "8.0K drwxr-xr-x 1 root 4.0K Jan 13 03:13 \u001b[0m\u001b[01;34m.\u001b[0m/\n",
            "4.0K drwxr-xr-x 1 root 4.0K Jan 13 03:03 \u001b[01;34m..\u001b[0m/\n",
            "4.0K -rw-r--r-- 1 root 2.6K Jan 13 03:13 adc.json\n",
            "8.0K drwxr-xr-x 1 root 4.0K Jan 13 03:13 \u001b[01;34m.config\u001b[0m/\n",
            "4.0K drwxr-xr-x 1 root 4.0K Dec 18 16:52 \u001b[01;34msample_data\u001b[0m/\n",
            " 12K -rw-r--r-- 1 root  11K Jan 13 03:13 sample_submission.csv\n",
            "400K -rw-r--r-- 1 root 400K Jan 13 03:13 specs.csv\n",
            " 41M -rw-r--r-- 1 root  41M Jan 13 03:13 test.csv.zip\n",
            "397M -rw-r--r-- 1 root 397M Jan 13 03:13 train.csv.zip\n",
            "264K -rw-r--r-- 1 root 262K Jan 13 03:13 train_labels.csv.zip\n"
          ],
          "name": "stdout"
        }
      ]
    },
    {
      "cell_type": "code",
      "metadata": {
        "id": "6r3HCtzZJ6H4",
        "colab_type": "code",
        "colab": {}
      },
      "source": [
        "# read in the data csv files\n",
        "train = pd.read_csv('train.csv.zip')"
      ],
      "execution_count": 0,
      "outputs": []
    },
    {
      "cell_type": "code",
      "metadata": {
        "id": "Dv_RKugCJ-yJ",
        "colab_type": "code",
        "outputId": "d036fda4-dae3-4d03-97ec-a77eebab6867",
        "colab": {
          "base_uri": "https://localhost:8080/",
          "height": 34
        }
      },
      "source": [
        "train.shape"
      ],
      "execution_count": 0,
      "outputs": [
        {
          "output_type": "execute_result",
          "data": {
            "text/plain": [
              "(11341042, 11)"
            ]
          },
          "metadata": {
            "tags": []
          },
          "execution_count": 9
        }
      ]
    },
    {
      "cell_type": "code",
      "metadata": {
        "id": "tcCF49mqKlUU",
        "colab_type": "code",
        "outputId": "31c35a70-9202-4ec7-bc4e-e49a24a63334",
        "colab": {
          "base_uri": "https://localhost:8080/",
          "height": 289
        }
      },
      "source": [
        "train.info()"
      ],
      "execution_count": 0,
      "outputs": [
        {
          "output_type": "stream",
          "text": [
            "<class 'pandas.core.frame.DataFrame'>\n",
            "RangeIndex: 11341042 entries, 0 to 11341041\n",
            "Data columns (total 11 columns):\n",
            "event_id           object\n",
            "game_session       object\n",
            "timestamp          object\n",
            "event_data         object\n",
            "installation_id    object\n",
            "event_count        int64\n",
            "event_code         int64\n",
            "game_time          int64\n",
            "title              object\n",
            "type               object\n",
            "world              object\n",
            "dtypes: int64(3), object(8)\n",
            "memory usage: 951.8+ MB\n"
          ],
          "name": "stdout"
        }
      ]
    },
    {
      "cell_type": "markdown",
      "metadata": {
        "id": "lI6UCe3FLeQH",
        "colab_type": "text"
      },
      "source": [
        "うむ、1GB近くあるのですね。"
      ]
    },
    {
      "cell_type": "code",
      "metadata": {
        "id": "JHcGQhaKLYxQ",
        "colab_type": "code",
        "colab": {}
      },
      "source": [
        "train_labels = pd.read_csv('train_labels.csv.zip')"
      ],
      "execution_count": 0,
      "outputs": []
    },
    {
      "cell_type": "code",
      "metadata": {
        "id": "Tq2e5d6BLoGx",
        "colab_type": "code",
        "outputId": "019a7e88-c7c3-43cd-8fb5-e4444e0f7a3e",
        "colab": {
          "base_uri": "https://localhost:8080/",
          "height": 221
        }
      },
      "source": [
        "train_labels.info()"
      ],
      "execution_count": 0,
      "outputs": [
        {
          "output_type": "stream",
          "text": [
            "<class 'pandas.core.frame.DataFrame'>\n",
            "RangeIndex: 17690 entries, 0 to 17689\n",
            "Data columns (total 7 columns):\n",
            "game_session       17690 non-null object\n",
            "installation_id    17690 non-null object\n",
            "title              17690 non-null object\n",
            "num_correct        17690 non-null int64\n",
            "num_incorrect      17690 non-null int64\n",
            "accuracy           17690 non-null float64\n",
            "accuracy_group     17690 non-null int64\n",
            "dtypes: float64(1), int64(3), object(3)\n",
            "memory usage: 967.5+ KB\n"
          ],
          "name": "stdout"
        }
      ]
    },
    {
      "cell_type": "code",
      "metadata": {
        "id": "aPhuccO_LrZp",
        "colab_type": "code",
        "colab": {}
      },
      "source": [
        "test = pd.read_csv('test.csv.zip')\n",
        "specs = pd.read_csv('specs.csv')\n",
        "ss = pd.read_csv('sample_submission.csv')"
      ],
      "execution_count": 0,
      "outputs": []
    },
    {
      "cell_type": "code",
      "metadata": {
        "id": "XS0RXr7sL7Ny",
        "colab_type": "code",
        "colab": {}
      },
      "source": [
        "train_smp = train.sample(1000000, random_state=123)"
      ],
      "execution_count": 0,
      "outputs": []
    },
    {
      "cell_type": "code",
      "metadata": {
        "id": "c1nWnt2FMMYT",
        "colab_type": "code",
        "outputId": "0f2722d7-3818-46ff-dd08-afa92a4ab857",
        "colab": {
          "base_uri": "https://localhost:8080/",
          "height": 340
        }
      },
      "source": [
        "train_labels.head()"
      ],
      "execution_count": 0,
      "outputs": [
        {
          "output_type": "execute_result",
          "data": {
            "text/html": [
              "<div>\n",
              "<style scoped>\n",
              "    .dataframe tbody tr th:only-of-type {\n",
              "        vertical-align: middle;\n",
              "    }\n",
              "\n",
              "    .dataframe tbody tr th {\n",
              "        vertical-align: top;\n",
              "    }\n",
              "\n",
              "    .dataframe thead th {\n",
              "        text-align: right;\n",
              "    }\n",
              "</style>\n",
              "<table border=\"1\" class=\"dataframe\">\n",
              "  <thead>\n",
              "    <tr style=\"text-align: right;\">\n",
              "      <th></th>\n",
              "      <th>game_session</th>\n",
              "      <th>installation_id</th>\n",
              "      <th>title</th>\n",
              "      <th>num_correct</th>\n",
              "      <th>num_incorrect</th>\n",
              "      <th>accuracy</th>\n",
              "      <th>accuracy_group</th>\n",
              "    </tr>\n",
              "  </thead>\n",
              "  <tbody>\n",
              "    <tr>\n",
              "      <th>0</th>\n",
              "      <td>6bdf9623adc94d89</td>\n",
              "      <td>0006a69f</td>\n",
              "      <td>Mushroom Sorter (Assessment)</td>\n",
              "      <td>1</td>\n",
              "      <td>0</td>\n",
              "      <td>1.0</td>\n",
              "      <td>3</td>\n",
              "    </tr>\n",
              "    <tr>\n",
              "      <th>1</th>\n",
              "      <td>77b8ee947eb84b4e</td>\n",
              "      <td>0006a69f</td>\n",
              "      <td>Bird Measurer (Assessment)</td>\n",
              "      <td>0</td>\n",
              "      <td>11</td>\n",
              "      <td>0.0</td>\n",
              "      <td>0</td>\n",
              "    </tr>\n",
              "    <tr>\n",
              "      <th>2</th>\n",
              "      <td>901acc108f55a5a1</td>\n",
              "      <td>0006a69f</td>\n",
              "      <td>Mushroom Sorter (Assessment)</td>\n",
              "      <td>1</td>\n",
              "      <td>0</td>\n",
              "      <td>1.0</td>\n",
              "      <td>3</td>\n",
              "    </tr>\n",
              "    <tr>\n",
              "      <th>3</th>\n",
              "      <td>9501794defd84e4d</td>\n",
              "      <td>0006a69f</td>\n",
              "      <td>Mushroom Sorter (Assessment)</td>\n",
              "      <td>1</td>\n",
              "      <td>1</td>\n",
              "      <td>0.5</td>\n",
              "      <td>2</td>\n",
              "    </tr>\n",
              "    <tr>\n",
              "      <th>4</th>\n",
              "      <td>a9ef3ecb3d1acc6a</td>\n",
              "      <td>0006a69f</td>\n",
              "      <td>Bird Measurer (Assessment)</td>\n",
              "      <td>1</td>\n",
              "      <td>0</td>\n",
              "      <td>1.0</td>\n",
              "      <td>3</td>\n",
              "    </tr>\n",
              "  </tbody>\n",
              "</table>\n",
              "</div>"
            ],
            "text/plain": [
              "       game_session installation_id                         title  \\\n",
              "0  6bdf9623adc94d89        0006a69f  Mushroom Sorter (Assessment)   \n",
              "1  77b8ee947eb84b4e        0006a69f    Bird Measurer (Assessment)   \n",
              "2  901acc108f55a5a1        0006a69f  Mushroom Sorter (Assessment)   \n",
              "3  9501794defd84e4d        0006a69f  Mushroom Sorter (Assessment)   \n",
              "4  a9ef3ecb3d1acc6a        0006a69f    Bird Measurer (Assessment)   \n",
              "\n",
              "   num_correct  num_incorrect  accuracy  accuracy_group  \n",
              "0            1              0       1.0               3  \n",
              "1            0             11       0.0               0  \n",
              "2            1              0       1.0               3  \n",
              "3            1              1       0.5               2  \n",
              "4            1              0       1.0               3  "
            ]
          },
          "metadata": {
            "tags": []
          },
          "execution_count": 15
        }
      ]
    },
    {
      "cell_type": "code",
      "metadata": {
        "id": "tMrVAcm7Mc7S",
        "colab_type": "code",
        "outputId": "6000e699-fe63-4152-9642-98d37192effd",
        "colab": {
          "base_uri": "https://localhost:8080/",
          "height": 356
        }
      },
      "source": [
        "train_labels.groupby('accuracy_group')['game_session'].count().plot(kind='barh', figsize=(15, 5), title='Target(accuracy group)')\n",
        "plt.show()"
      ],
      "execution_count": 0,
      "outputs": [
        {
          "output_type": "display_data",
          "data": {
            "image/png": "[encoded data removed]",
            "text/plain": [
              "<Figure size 1080x360 with 1 Axes>"
            ]
          },
          "metadata": {
            "tags": []
          }
        }
      ]
    },
    {
      "cell_type": "markdown",
      "metadata": {
        "id": "TRYcJ29oND2e",
        "colab_type": "text"
      },
      "source": [
        "0過剰ポアソン分布みたいな形になっている？  \n",
        "グループはカテゴリカル変数で与えられているが、もとのデータは整数値を取るはずで、それが何らかの分布に従っているのではないかと思われる。"
      ]
    },
    {
      "cell_type": "code",
      "metadata": {
        "id": "LeYjxivoMpr7",
        "colab_type": "code",
        "outputId": "cc633a5d-e7be-4273-d4fd-4eb5ff57dfb7",
        "colab": {
          "base_uri": "https://localhost:8080/",
          "height": 725
        }
      },
      "source": [
        "sns.pairplot(train_labels, hue='accuracy_group')\n",
        "plt.show()"
      ],
      "execution_count": 0,
      "outputs": [
        {
          "output_type": "display_data",
          "data": {
            "image/png": "[encoded data removed]",
            "text/plain": [
              "<Figure size 807.25x720 with 20 Axes>"
            ]
          },
          "metadata": {
            "tags": []
          }
        }
      ]
    },
    {
      "cell_type": "code",
      "metadata": {
        "id": "_b8PRRyN5H1J",
        "colab_type": "code",
        "outputId": "7a147ac6-3601-42fb-c23b-3e3e1255f38f",
        "colab": {
          "base_uri": "https://localhost:8080/",
          "height": 428
        }
      },
      "source": [
        "train.head()"
      ],
      "execution_count": 0,
      "outputs": [
        {
          "output_type": "execute_result",
          "data": {
            "text/html": [
              "<div>\n",
              "<style scoped>\n",
              "    .dataframe tbody tr th:only-of-type {\n",
              "        vertical-align: middle;\n",
              "    }\n",
              "\n",
              "    .dataframe tbody tr th {\n",
              "        vertical-align: top;\n",
              "    }\n",
              "\n",
              "    .dataframe thead th {\n",
              "        text-align: right;\n",
              "    }\n",
              "</style>\n",
              "<table border=\"1\" class=\"dataframe\">\n",
              "  <thead>\n",
              "    <tr style=\"text-align: right;\">\n",
              "      <th></th>\n",
              "      <th>event_id</th>\n",
              "      <th>game_session</th>\n",
              "      <th>timestamp</th>\n",
              "      <th>event_data</th>\n",
              "      <th>installation_id</th>\n",
              "      <th>event_count</th>\n",
              "      <th>event_code</th>\n",
              "      <th>game_time</th>\n",
              "      <th>title</th>\n",
              "      <th>type</th>\n",
              "      <th>world</th>\n",
              "    </tr>\n",
              "  </thead>\n",
              "  <tbody>\n",
              "    <tr>\n",
              "      <th>0</th>\n",
              "      <td>27253bdc</td>\n",
              "      <td>45bb1e1b6b50c07b</td>\n",
              "      <td>2019-09-06T17:53:46.937Z</td>\n",
              "      <td>{\"event_code\": 2000, \"event_count\": 1}</td>\n",
              "      <td>0001e90f</td>\n",
              "      <td>1</td>\n",
              "      <td>2000</td>\n",
              "      <td>0</td>\n",
              "      <td>Welcome to Lost Lagoon!</td>\n",
              "      <td>Clip</td>\n",
              "      <td>NONE</td>\n",
              "    </tr>\n",
              "    <tr>\n",
              "      <th>1</th>\n",
              "      <td>27253bdc</td>\n",
              "      <td>17eeb7f223665f53</td>\n",
              "      <td>2019-09-06T17:54:17.519Z</td>\n",
              "      <td>{\"event_code\": 2000, \"event_count\": 1}</td>\n",
              "      <td>0001e90f</td>\n",
              "      <td>1</td>\n",
              "      <td>2000</td>\n",
              "      <td>0</td>\n",
              "      <td>Magma Peak - Level 1</td>\n",
              "      <td>Clip</td>\n",
              "      <td>MAGMAPEAK</td>\n",
              "    </tr>\n",
              "    <tr>\n",
              "      <th>2</th>\n",
              "      <td>77261ab5</td>\n",
              "      <td>0848ef14a8dc6892</td>\n",
              "      <td>2019-09-06T17:54:56.302Z</td>\n",
              "      <td>{\"version\":\"1.0\",\"event_count\":1,\"game_time\":0,\"event_code\":2000}</td>\n",
              "      <td>0001e90f</td>\n",
              "      <td>1</td>\n",
              "      <td>2000</td>\n",
              "      <td>0</td>\n",
              "      <td>Sandcastle Builder (Activity)</td>\n",
              "      <td>Activity</td>\n",
              "      <td>MAGMAPEAK</td>\n",
              "    </tr>\n",
              "    <tr>\n",
              "      <th>3</th>\n",
              "      <td>b2dba42b</td>\n",
              "      <td>0848ef14a8dc6892</td>\n",
              "      <td>2019-09-06T17:54:56.387Z</td>\n",
              "      <td>{\"description\":\"Let's build a sandcastle! First, fill up your mold with sand! You can use the shovel here. The mold gives the sand its shape!\",\"identifier\":\"Dot_LetsSandcastle,Dot_FillMold,Dot_Mol...</td>\n",
              "      <td>0001e90f</td>\n",
              "      <td>2</td>\n",
              "      <td>3010</td>\n",
              "      <td>53</td>\n",
              "      <td>Sandcastle Builder (Activity)</td>\n",
              "      <td>Activity</td>\n",
              "      <td>MAGMAPEAK</td>\n",
              "    </tr>\n",
              "    <tr>\n",
              "      <th>4</th>\n",
              "      <td>1bb5fbdb</td>\n",
              "      <td>0848ef14a8dc6892</td>\n",
              "      <td>2019-09-06T17:55:03.253Z</td>\n",
              "      <td>{\"description\":\"Let's build a sandcastle! First, fill up your mold with sand! You can use the shovel here. The mold gives the sand its shape!\",\"identifier\":\"Dot_LetsSandcastle,Dot_FillMold,Dot_Mol...</td>\n",
              "      <td>0001e90f</td>\n",
              "      <td>3</td>\n",
              "      <td>3110</td>\n",
              "      <td>6972</td>\n",
              "      <td>Sandcastle Builder (Activity)</td>\n",
              "      <td>Activity</td>\n",
              "      <td>MAGMAPEAK</td>\n",
              "    </tr>\n",
              "  </tbody>\n",
              "</table>\n",
              "</div>"
            ],
            "text/plain": [
              "   event_id      game_session                 timestamp  \\\n",
              "0  27253bdc  45bb1e1b6b50c07b  2019-09-06T17:53:46.937Z   \n",
              "1  27253bdc  17eeb7f223665f53  2019-09-06T17:54:17.519Z   \n",
              "2  77261ab5  0848ef14a8dc6892  2019-09-06T17:54:56.302Z   \n",
              "3  b2dba42b  0848ef14a8dc6892  2019-09-06T17:54:56.387Z   \n",
              "4  1bb5fbdb  0848ef14a8dc6892  2019-09-06T17:55:03.253Z   \n",
              "\n",
              "                                                                                                                                                                                                event_data  \\\n",
              "0                                                                                                                                                                   {\"event_code\": 2000, \"event_count\": 1}   \n",
              "1                                                                                                                                                                   {\"event_code\": 2000, \"event_count\": 1}   \n",
              "2                                                                                                                                        {\"version\":\"1.0\",\"event_count\":1,\"game_time\":0,\"event_code\":2000}   \n",
              "3  {\"description\":\"Let's build a sandcastle! First, fill up your mold with sand! You can use the shovel here. The mold gives the sand its shape!\",\"identifier\":\"Dot_LetsSandcastle,Dot_FillMold,Dot_Mol...   \n",
              "4  {\"description\":\"Let's build a sandcastle! First, fill up your mold with sand! You can use the shovel here. The mold gives the sand its shape!\",\"identifier\":\"Dot_LetsSandcastle,Dot_FillMold,Dot_Mol...   \n",
              "\n",
              "  installation_id  event_count  event_code  game_time  \\\n",
              "0        0001e90f            1        2000          0   \n",
              "1        0001e90f            1        2000          0   \n",
              "2        0001e90f            1        2000          0   \n",
              "3        0001e90f            2        3010         53   \n",
              "4        0001e90f            3        3110       6972   \n",
              "\n",
              "                           title      type      world  \n",
              "0        Welcome to Lost Lagoon!      Clip       NONE  \n",
              "1           Magma Peak - Level 1      Clip  MAGMAPEAK  \n",
              "2  Sandcastle Builder (Activity)  Activity  MAGMAPEAK  \n",
              "3  Sandcastle Builder (Activity)  Activity  MAGMAPEAK  \n",
              "4  Sandcastle Builder (Activity)  Activity  MAGMAPEAK  "
            ]
          },
          "metadata": {
            "tags": []
          },
          "execution_count": 18
        }
      ]
    },
    {
      "cell_type": "code",
      "metadata": {
        "id": "Wvkrm6V66a16",
        "colab_type": "code",
        "outputId": "c7b031f9-6d3a-44ea-ec52-892c8a775d94",
        "colab": {
          "base_uri": "https://localhost:8080/",
          "height": 51
        }
      },
      "source": [
        "%%time\n",
        "# event_id & game_session\n",
        "train['event_id_as_int'] = train['event_id'].apply(lambda x: int(x, 16))\n",
        "train['game_session_as_int'] = train['game_session'].apply(lambda x: int(x, 16))"
      ],
      "execution_count": 11,
      "outputs": [
        {
          "output_type": "stream",
          "text": [
            "CPU times: user 11.5 s, sys: 420 ms, total: 11.9 s\n",
            "Wall time: 11.9 s\n"
          ],
          "name": "stdout"
        }
      ]
    },
    {
      "cell_type": "code",
      "metadata": {
        "id": "30BAiCFb61PF",
        "colab_type": "code",
        "outputId": "c3253301-9c68-4d26-fb4f-d7979c4af2de",
        "colab": {
          "base_uri": "https://localhost:8080/",
          "height": 221
        }
      },
      "source": [
        "train['event_id_as_int'].value_counts()"
      ],
      "execution_count": 0,
      "outputs": [
        {
          "output_type": "execute_result",
          "data": {
            "text/plain": [
              "321209981     274673\n",
              "3141416715    256179\n",
              "3481448278    224694\n",
              "1585523495    206129\n",
              "3485288392    199734\n",
              "               ...  \n",
              "1081391810         1\n",
              "1572895192         1\n",
              "295394050          1\n",
              "399128921          1\n",
              "2831970284         1\n",
              "Name: event_id_as_int, Length: 384, dtype: int64"
            ]
          },
          "metadata": {
            "tags": []
          },
          "execution_count": 20
        }
      ]
    },
    {
      "cell_type": "code",
      "metadata": {
        "id": "0SGg7Kgd69iu",
        "colab_type": "code",
        "outputId": "4294eaa2-cca0-4e38-ddb9-6d47a21c4477",
        "colab": {
          "base_uri": "https://localhost:8080/",
          "height": 221
        }
      },
      "source": [
        "train['game_session_as_int'].value_counts()"
      ],
      "execution_count": 0,
      "outputs": [
        {
          "output_type": "execute_result",
          "data": {
            "text/plain": [
              "7957413586569608673     3368\n",
              "13483506718690993760    3182\n",
              "3695586738793492217     2505\n",
              "3803337315533600652     2456\n",
              "10367474617437948420    2398\n",
              "                        ... \n",
              "6956492396539761871        1\n",
              "13636289567656964288       1\n",
              "7157752131875516434        1\n",
              "12061113909191278358       1\n",
              "7863511568735651636        1\n",
              "Name: game_session_as_int, Length: 303319, dtype: int64"
            ]
          },
          "metadata": {
            "tags": []
          },
          "execution_count": 21
        }
      ]
    },
    {
      "cell_type": "code",
      "metadata": {
        "id": "KeZPBT9W7Dw1",
        "colab_type": "code",
        "outputId": "3dca8a21-f86b-4c42-8816-f5b9ab3f0e15",
        "colab": {
          "base_uri": "https://localhost:8080/",
          "height": 51
        }
      },
      "source": [
        "%%time\n",
        "# timestamp\n",
        "\n",
        "# format\n",
        "train['timestamp'] = pd.to_datetime(train['timestamp'])\n",
        "# make date\n",
        "train['date'] = train['timestamp'].dt.date\n",
        "# make hour\n",
        "train['hour'] = train['timestamp'].dt.hour\n",
        "# make weekday name\n",
        "train['weekday_name'] = train['timestamp'].dt.weekday_name\n",
        "\n",
        "# same for test\n",
        "test['timestamp'] = pd.to_datetime(test['timestamp'])\n",
        "test['date'] = test['timestamp'].dt.date\n",
        "test['hour'] = test['timestamp'].dt.hour\n",
        "test['weekday_name'] = test['timestamp'].dt.weekday_name"
      ],
      "execution_count": 12,
      "outputs": [
        {
          "output_type": "stream",
          "text": [
            "CPU times: user 14.7 s, sys: 808 ms, total: 15.5 s\n",
            "Wall time: 15.5 s\n"
          ],
          "name": "stdout"
        }
      ]
    },
    {
      "cell_type": "code",
      "metadata": {
        "id": "IkswW5-ke7_W",
        "colab_type": "code",
        "outputId": "6f75421c-f1da-48e6-8396-e8de5eb0dc7b",
        "colab": {
          "base_uri": "https://localhost:8080/",
          "height": 51
        }
      },
      "source": [
        "print(f'Train data has shape: {train.shape}')\n",
        "print(f'Test data has shape: {test.shape}')"
      ],
      "execution_count": 0,
      "outputs": [
        {
          "output_type": "stream",
          "text": [
            "Train data has shape: (11341042, 16)\n",
            "Test data has shape: (1156414, 14)\n"
          ],
          "name": "stdout"
        }
      ]
    },
    {
      "cell_type": "code",
      "metadata": {
        "id": "hYChT8Ilf7pu",
        "colab_type": "code",
        "outputId": "87c6fafa-7259-45db-ecc3-518b75ee1a26",
        "colab": {
          "base_uri": "https://localhost:8080/",
          "height": 261
        }
      },
      "source": [
        "train.groupby('date')['event_id'].agg('count').plot(figsize=(15, 3),\n",
        "                                                    title='Number of Event Observations by Date',\n",
        "                                                    color=my_pal[2])\n",
        "plt.show()"
      ],
      "execution_count": 0,
      "outputs": [
        {
          "output_type": "display_data",
          "data": {
            "image/png": "[encoded data removed]",
            "text/plain": [
              "<Figure size 1080x216 with 1 Axes>"
            ]
          },
          "metadata": {
            "tags": []
          }
        }
      ]
    },
    {
      "cell_type": "code",
      "metadata": {
        "id": "_MlBkEMjNapT",
        "colab_type": "code",
        "outputId": "d69e581a-7cc7-4eae-cbd4-337020dd997b",
        "colab": {
          "base_uri": "https://localhost:8080/",
          "height": 261
        }
      },
      "source": [
        "train.groupby('hour')['event_id'].agg('count').plot(figsize=(15, 3),\n",
        "                                                    title='Number of Event Observations by Hour',\n",
        "                                                    color=my_pal[1])\n",
        "plt.show()"
      ],
      "execution_count": 0,
      "outputs": [
        {
          "output_type": "display_data",
          "data": {
            "image/png": "[encoded data removed]",
            "text/plain": [
              "<Figure size 1080x216 with 1 Axes>"
            ]
          },
          "metadata": {
            "tags": []
          }
        }
      ]
    },
    {
      "cell_type": "code",
      "metadata": {
        "id": "ITusOiUXOFXF",
        "colab_type": "code",
        "outputId": "e8fd1886-e2ed-4344-de88-6ae2645f7527",
        "colab": {
          "base_uri": "https://localhost:8080/",
          "height": 262
        }
      },
      "source": [
        "train.groupby('weekday_name')['event_id'].agg('count').T[['Monday', 'Tuesday', 'Wednesday',\n",
        "                                                          'Thursday', 'Friday', 'Saturday', 'Sunday']].T.plot(figsize=(15, 3),\n",
        "                                                                                                              title='Number of Event Observations by Day of Week',\n",
        "                                                                                                              color=my_pal[3])\n",
        "plt.show()"
      ],
      "execution_count": 0,
      "outputs": [
        {
          "output_type": "display_data",
          "data": {
            "image/png": "[encoded data removed]",
            "text/plain": [
              "<Figure size 1080x216 with 1 Axes>"
            ]
          },
          "metadata": {
            "tags": []
          }
        }
      ]
    },
    {
      "cell_type": "code",
      "metadata": {
        "id": "_CaagxjePp8P",
        "colab_type": "code",
        "colab": {}
      },
      "source": [
        "cross_df = train.groupby(['hour', 'weekday_name'])['event_id'].agg('count').reset_index()\n",
        "cross_df = cross_df.pivot( 'hour','weekday_name', 'event_id')"
      ],
      "execution_count": 0,
      "outputs": []
    },
    {
      "cell_type": "code",
      "metadata": {
        "id": "0k9D4viSOzCx",
        "colab_type": "code",
        "outputId": "38639f08-ee0b-40ca-ac89-6b44237b9c08",
        "colab": {
          "base_uri": "https://localhost:8080/",
          "height": 329
        }
      },
      "source": [
        "sns.heatmap(cross_df, xticklabels=['Monday', 'Tuesday', 'Wednesday',\n",
        "                                    'Thursday', 'Friday', 'Saturday', 'Sunday']);"
      ],
      "execution_count": 0,
      "outputs": [
        {
          "output_type": "display_data",
          "data": {
            "image/png": "[encoded data removed]",
            "text/plain": [
              "<Figure size 432x288 with 2 Axes>"
            ]
          },
          "metadata": {
            "tags": []
          }
        }
      ]
    },
    {
      "cell_type": "markdown",
      "metadata": {
        "id": "SAY5KMnmTiUb",
        "colab_type": "text"
      },
      "source": [
        "+ 月曜日の夕方が多い。\n",
        "+ 金曜日の夕方が多い。\n",
        "+ 午前中にプレイすることはあまりなさそう。\n",
        "\n",
        "あれ、祝日とかわからないのだろうか。  \n",
        "国がわからない。"
      ]
    },
    {
      "cell_type": "code",
      "metadata": {
        "id": "N3z0_iJfP1gE",
        "colab_type": "code",
        "outputId": "5e5ebdce-12c8-44c4-a84c-77d9725986c1",
        "colab": {
          "base_uri": "https://localhost:8080/",
          "height": 654
        }
      },
      "source": [
        "cross_df = train.groupby(['hour', 'date'])['event_id'].agg('count').reset_index()\n",
        "cross_df = cross_df.pivot( 'hour','date', 'event_id')\n",
        "fig, ax = plt.subplots(figsize=(15,10)) \n",
        "ax = sns.heatmap(cross_df);"
      ],
      "execution_count": 0,
      "outputs": [
        {
          "output_type": "display_data",
          "data": {
            "image/png": "[encoded data removed]",
            "text/plain": [
              "<Figure size 1080x720 with 2 Axes>"
            ]
          },
          "metadata": {
            "tags": []
          }
        }
      ]
    },
    {
      "cell_type": "markdown",
      "metadata": {
        "id": "oWc1U-n4UiwG",
        "colab_type": "text"
      },
      "source": [
        "欠損している時間帯があるということ？"
      ]
    },
    {
      "cell_type": "code",
      "metadata": {
        "id": "RbBDIcMmUS1F",
        "colab_type": "code",
        "outputId": "b3a4f01e-1c1e-4986-adbb-56a0c7f5238e",
        "colab": {
          "base_uri": "https://localhost:8080/",
          "height": 71
        }
      },
      "source": [
        "# event data\n",
        "print(train['event_data'][4])\n",
        "print(train['event_data'][5])"
      ],
      "execution_count": 0,
      "outputs": [
        {
          "output_type": "stream",
          "text": [
            "{\"description\":\"Let's build a sandcastle! First, fill up your mold with sand! You can use the shovel here. The mold gives the sand its shape!\",\"identifier\":\"Dot_LetsSandcastle,Dot_FillMold,Dot_MoldShape\",\"media_type\":\"audio\",\"duration\":6919,\"event_count\":3,\"game_time\":6972,\"event_code\":3110}\n",
            "{\"coordinates\":{\"x\":583,\"y\":605,\"stage_width\":1015,\"stage_height\":762},\"event_count\":4,\"game_time\":9991,\"event_code\":4070}\n"
          ],
          "name": "stdout"
        }
      ]
    },
    {
      "cell_type": "code",
      "metadata": {
        "id": "TnF2X51DbRLU",
        "colab_type": "code",
        "outputId": "03f73d8d-556e-453e-b6a8-3b7ad0f1e4f3",
        "colab": {
          "base_uri": "https://localhost:8080/",
          "height": 356
        }
      },
      "source": [
        "train.groupby('installation_id').count()['event_id'].plot(kind='hist',\n",
        "                                                          bins=40,\n",
        "                                                          color=my_pal[4],\n",
        "                                                          figsize=(15, 5),\n",
        "                                                          title='Count of Observations by installation_id')\n",
        "plt.show()"
      ],
      "execution_count": 0,
      "outputs": [
        {
          "output_type": "display_data",
          "data": {
            "image/png": "[encoded data removed]",
            "text/plain": [
              "<Figure size 1080x360 with 1 Axes>"
            ]
          },
          "metadata": {
            "tags": []
          }
        }
      ]
    },
    {
      "cell_type": "code",
      "metadata": {
        "id": "T03YwY9qb7RZ",
        "colab_type": "code",
        "outputId": "628c5406-ec67-407d-b73a-d85432fd9fa5",
        "colab": {
          "base_uri": "https://localhost:8080/",
          "height": 356
        }
      },
      "source": [
        "train.groupby('installation_id').count()['event_id'].apply(np.log1p).plot(kind='hist',\n",
        "                                                                          bins=40,\n",
        "                                                                          color=my_pal[6],\n",
        "                                                                          figsize=(15, 5),\n",
        "                                                                          title='LOG(Count) of Observations by installation_id')\n",
        "plt.show();"
      ],
      "execution_count": 0,
      "outputs": [
        {
          "output_type": "display_data",
          "data": {
            "image/png": "[encoded data removed]",
            "text/plain": [
              "<Figure size 1080x360 with 1 Axes>"
            ]
          },
          "metadata": {
            "tags": []
          }
        }
      ]
    },
    {
      "cell_type": "markdown",
      "metadata": {
        "id": "QaWomjrtd5_S",
        "colab_type": "text"
      },
      "source": [
        "ゼロ過剰ポアソン分布みたいな形になっている。"
      ]
    },
    {
      "cell_type": "code",
      "metadata": {
        "id": "Ki4EPXUwdxet",
        "colab_type": "code",
        "outputId": "09e17bcd-847f-4f71-fb15-034ba0b09f22",
        "colab": {
          "base_uri": "https://localhost:8080/",
          "height": 136
        }
      },
      "source": [
        "train.groupby('installation_id').count()['event_id'].sort_values(ascending=False).head(5)"
      ],
      "execution_count": 0,
      "outputs": [
        {
          "output_type": "execute_result",
          "data": {
            "text/plain": [
              "installation_id\n",
              "f1c21eda    58988\n",
              "4d7d3d97    32749\n",
              "d25338cb    31826\n",
              "cff5a334    30918\n",
              "c9ea32e9    30402\n",
              "Name: event_id, dtype: int64"
            ]
          },
          "metadata": {
            "tags": []
          },
          "execution_count": 33
        }
      ]
    },
    {
      "cell_type": "code",
      "metadata": {
        "id": "MmNedXpZefbL",
        "colab_type": "code",
        "outputId": "2a4e7979-c61a-4ee2-ca68-16458a217179",
        "colab": {
          "base_uri": "https://localhost:8080/",
          "height": 370
        }
      },
      "source": [
        "# botぽいインスタンスに注目する\n",
        "train.query('installation_id == \"f1c21eda\" ').set_index('timestamp')['event_code'].plot(figsize=(15, 5),\n",
        "                                                                                        title='installation_id f1c21eda event Id - event vs time',\n",
        "                                                                                        style='.',\n",
        "                                                                                        color=my_pal[8])\n",
        "plt.show()"
      ],
      "execution_count": 0,
      "outputs": [
        {
          "output_type": "display_data",
          "data": {
            "image/png": "[encoded data removed]",
            "text/plain": [
              "<Figure size 1080x360 with 1 Axes>"
            ]
          },
          "metadata": {
            "tags": []
          }
        }
      ]
    },
    {
      "cell_type": "markdown",
      "metadata": {
        "id": "fWbXpA76fike",
        "colab_type": "text"
      },
      "source": [
        "Botぽいユーザーを除外する処理を書く必要があるかも。 \n",
        "+ 頻度が高すぎる\n",
        "+ おかしな時間にアクセス\n",
        "+ アクセス間隔が一定"
      ]
    },
    {
      "cell_type": "code",
      "metadata": {
        "id": "LhvcM7nffdIk",
        "colab_type": "code",
        "outputId": "3cec095d-afe1-4d21-b911-4f6ab23e45f7",
        "colab": {
          "base_uri": "https://localhost:8080/",
          "height": 386
        }
      },
      "source": [
        "# event_code\n",
        "train.groupby('event_code').count()['event_id'].sort_values().plot(kind='bar',\n",
        "                                                                   figsize=(15, 5),\n",
        "                                                                   title='Count of different event codes.')\n",
        "plt.show()"
      ],
      "execution_count": 0,
      "outputs": [
        {
          "output_type": "display_data",
          "data": {
            "image/png": "[encoded data removed]",
            "text/plain": [
              "<Figure size 1080x360 with 1 Axes>"
            ]
          },
          "metadata": {
            "tags": []
          }
        }
      ]
    },
    {
      "cell_type": "code",
      "metadata": {
        "id": "MyEblCCygfxn",
        "colab_type": "code",
        "outputId": "55887720-eae3-4270-88f7-b1830790dfa9",
        "colab": {
          "base_uri": "https://localhost:8080/",
          "height": 241
        }
      },
      "source": [
        "train[train['event_code'] == 4070].event_data"
      ],
      "execution_count": 0,
      "outputs": [
        {
          "output_type": "execute_result",
          "data": {
            "text/plain": [
              "5                      {\"coordinates\":{\"x\":583,\"y\":605,\"stage_width\":1015,\"stage_height\":762},\"event_count\":4,\"game_time\":9991,\"event_code\":4070}\n",
              "6                     {\"coordinates\":{\"x\":601,\"y\":570,\"stage_width\":1015,\"stage_height\":762},\"event_count\":5,\"game_time\":10622,\"event_code\":4070}\n",
              "7                     {\"coordinates\":{\"x\":250,\"y\":665,\"stage_width\":1015,\"stage_height\":762},\"event_count\":6,\"game_time\":11255,\"event_code\":4070}\n",
              "8                     {\"coordinates\":{\"x\":279,\"y\":629,\"stage_width\":1015,\"stage_height\":762},\"event_count\":7,\"game_time\":11689,\"event_code\":4070}\n",
              "9                     {\"coordinates\":{\"x\":839,\"y\":654,\"stage_width\":1015,\"stage_height\":762},\"event_count\":8,\"game_time\":12272,\"event_code\":4070}\n",
              "                                                                            ...                                                                  \n",
              "11341028    {\"coordinates\":{\"x\":74,\"y\":359,\"stage_width\":1014,\"stage_height\":468},\"round\":0,\"event_count\":57,\"game_time\":39577,\"event_code\":4070}\n",
              "11341030    {\"coordinates\":{\"x\":82,\"y\":113,\"stage_width\":1014,\"stage_height\":468},\"round\":0,\"event_count\":59,\"game_time\":40677,\"event_code\":4070}\n",
              "11341031     {\"coordinates\":{\"x\":58,\"y\":89,\"stage_width\":1014,\"stage_height\":468},\"round\":0,\"event_count\":60,\"game_time\":41077,\"event_code\":4070}\n",
              "11341033     {\"coordinates\":{\"x\":88,\"y\":61,\"stage_width\":1014,\"stage_height\":468},\"round\":0,\"event_count\":62,\"game_time\":41711,\"event_code\":4070}\n",
              "11341034    {\"coordinates\":{\"x\":101,\"y\":66,\"stage_width\":1014,\"stage_height\":468},\"round\":0,\"event_count\":63,\"game_time\":42411,\"event_code\":4070}\n",
              "Name: event_data, Length: 2349642, dtype: object"
            ]
          },
          "metadata": {
            "tags": []
          },
          "execution_count": 36
        }
      ]
    },
    {
      "cell_type": "code",
      "metadata": {
        "id": "DuwtXDYnhVqH",
        "colab_type": "code",
        "outputId": "d760b9fe-997b-4335-a32a-62bdf3c69b35",
        "colab": {
          "base_uri": "https://localhost:8080/",
          "height": 241
        }
      },
      "source": [
        "train[train['event_code'] == 4030].event_data"
      ],
      "execution_count": 0,
      "outputs": [
        {
          "output_type": "execute_result",
          "data": {
            "text/plain": [
              "56            {\"size\":0,\"coordinates\":{\"x\":782,\"y\":207,\"stage_width\":1015,\"stage_height\":762},\"event_count\":55,\"game_time\":34324,\"event_code\":4030}\n",
              "59            {\"size\":0,\"coordinates\":{\"x\":782,\"y\":207,\"stage_width\":1015,\"stage_height\":762},\"event_count\":58,\"game_time\":35857,\"event_code\":4030}\n",
              "65            {\"size\":0,\"coordinates\":{\"x\":782,\"y\":207,\"stage_width\":1015,\"stage_height\":762},\"event_count\":64,\"game_time\":36808,\"event_code\":4030}\n",
              "70            {\"size\":0,\"coordinates\":{\"x\":782,\"y\":207,\"stage_width\":1015,\"stage_height\":762},\"event_count\":69,\"game_time\":37607,\"event_code\":4030}\n",
              "72            {\"size\":0,\"coordinates\":{\"x\":782,\"y\":207,\"stage_width\":1015,\"stage_height\":762},\"event_count\":71,\"game_time\":37824,\"event_code\":4030}\n",
              "                                                                             ...                                                                   \n",
              "11340940     {\"rocket\":5,\"coordinates\":{\"x\":525,\"y\":612,\"stage_width\":1015,\"stage_height\":762},\"event_count\":13,\"game_time\":9705,\"event_code\":4030}\n",
              "11340944    {\"rocket\":4,\"coordinates\":{\"x\":429,\"y\":599,\"stage_width\":1015,\"stage_height\":762},\"event_count\":17,\"game_time\":15589,\"event_code\":4030}\n",
              "11340952    {\"rocket\":3,\"coordinates\":{\"x\":330,\"y\":594,\"stage_width\":1015,\"stage_height\":762},\"event_count\":25,\"game_time\":23722,\"event_code\":4030}\n",
              "11340957    {\"rocket\":2,\"coordinates\":{\"x\":244,\"y\":616,\"stage_width\":1015,\"stage_height\":762},\"event_count\":30,\"game_time\":30039,\"event_code\":4030}\n",
              "11340963    {\"rocket\":1,\"coordinates\":{\"x\":121,\"y\":604,\"stage_width\":1015,\"stage_height\":762},\"event_count\":36,\"game_time\":35140,\"event_code\":4030}\n",
              "Name: event_data, Length: 1544814, dtype: object"
            ]
          },
          "metadata": {
            "tags": []
          },
          "execution_count": 37
        }
      ]
    },
    {
      "cell_type": "markdown",
      "metadata": {
        "id": "4Dy_xfljiHxR",
        "colab_type": "text"
      },
      "source": [
        "event_codeの前処理をする必要がある。  "
      ]
    },
    {
      "cell_type": "code",
      "metadata": {
        "id": "F54788Tph7cO",
        "colab_type": "code",
        "outputId": "5a0482d4-65cc-446e-d898-b66a4c4d1626",
        "colab": {
          "base_uri": "https://localhost:8080/",
          "height": 34
        }
      },
      "source": [
        "type(train['event_data'][0])"
      ],
      "execution_count": 0,
      "outputs": [
        {
          "output_type": "execute_result",
          "data": {
            "text/plain": [
              "str"
            ]
          },
          "metadata": {
            "tags": []
          },
          "execution_count": 38
        }
      ]
    },
    {
      "cell_type": "code",
      "metadata": {
        "id": "_L-ZjeB3lAfg",
        "colab_type": "code",
        "outputId": "78000cda-a3c9-488b-d5df-a7eaafd5b269",
        "colab": {
          "base_uri": "https://localhost:8080/",
          "height": 85
        }
      },
      "source": [
        "# 文字列をjsonにして解析していく\n",
        "import json\n",
        "di = json.loads(train['event_data'][10])\n",
        "di"
      ],
      "execution_count": 13,
      "outputs": [
        {
          "output_type": "execute_result",
          "data": {
            "text/plain": [
              "{'coordinates': {'stage_height': 762, 'stage_width': 1015, 'x': 807, 'y': 619},\n",
              " 'event_code': 4070,\n",
              " 'event_count': 9,\n",
              " 'game_time': 12672}"
            ]
          },
          "metadata": {
            "tags": []
          },
          "execution_count": 13
        }
      ]
    },
    {
      "cell_type": "code",
      "metadata": {
        "id": "r7yFQs3cqdik",
        "colab_type": "code",
        "outputId": "2b54c6bf-289c-4966-a5fd-64c7c004b3d8",
        "colab": {
          "base_uri": "https://localhost:8080/",
          "height": 557
        }
      },
      "source": [
        "# train.describe(include='all')"
      ],
      "execution_count": 0,
      "outputs": [
        {
          "output_type": "execute_result",
          "data": {
            "text/html": [
              "<div>\n",
              "<style scoped>\n",
              "    .dataframe tbody tr th:only-of-type {\n",
              "        vertical-align: middle;\n",
              "    }\n",
              "\n",
              "    .dataframe tbody tr th {\n",
              "        vertical-align: top;\n",
              "    }\n",
              "\n",
              "    .dataframe thead th {\n",
              "        text-align: right;\n",
              "    }\n",
              "</style>\n",
              "<table border=\"1\" class=\"dataframe\">\n",
              "  <thead>\n",
              "    <tr style=\"text-align: right;\">\n",
              "      <th></th>\n",
              "      <th>event_id</th>\n",
              "      <th>game_session</th>\n",
              "      <th>timestamp</th>\n",
              "      <th>event_data</th>\n",
              "      <th>installation_id</th>\n",
              "      <th>event_count</th>\n",
              "      <th>event_code</th>\n",
              "      <th>game_time</th>\n",
              "      <th>title</th>\n",
              "      <th>type</th>\n",
              "      <th>world</th>\n",
              "      <th>event_id_as_int</th>\n",
              "      <th>game_session_as_int</th>\n",
              "      <th>date</th>\n",
              "      <th>hour</th>\n",
              "      <th>weekday_name</th>\n",
              "    </tr>\n",
              "  </thead>\n",
              "  <tbody>\n",
              "    <tr>\n",
              "      <th>count</th>\n",
              "      <td>11341042</td>\n",
              "      <td>11341042</td>\n",
              "      <td>11341042</td>\n",
              "      <td>11341042</td>\n",
              "      <td>11341042</td>\n",
              "      <td>1.134104e+07</td>\n",
              "      <td>1.134104e+07</td>\n",
              "      <td>1.134104e+07</td>\n",
              "      <td>11341042</td>\n",
              "      <td>11341042</td>\n",
              "      <td>11341042</td>\n",
              "      <td>1.134104e+07</td>\n",
              "      <td>1.134104e+07</td>\n",
              "      <td>11341042</td>\n",
              "      <td>1.134104e+07</td>\n",
              "      <td>11341042</td>\n",
              "    </tr>\n",
              "    <tr>\n",
              "      <th>unique</th>\n",
              "      <td>384</td>\n",
              "      <td>303319</td>\n",
              "      <td>10777308</td>\n",
              "      <td>10893749</td>\n",
              "      <td>17000</td>\n",
              "      <td>NaN</td>\n",
              "      <td>NaN</td>\n",
              "      <td>NaN</td>\n",
              "      <td>44</td>\n",
              "      <td>4</td>\n",
              "      <td>4</td>\n",
              "      <td>NaN</td>\n",
              "      <td>NaN</td>\n",
              "      <td>85</td>\n",
              "      <td>NaN</td>\n",
              "      <td>7</td>\n",
              "    </tr>\n",
              "    <tr>\n",
              "      <th>top</th>\n",
              "      <td>1325467d</td>\n",
              "      <td>6e6e697f2e593de1</td>\n",
              "      <td>2019-08-01 20:08:13.052000+00:00</td>\n",
              "      <td>{\"event_code\": 2000, \"event_count\": 1}</td>\n",
              "      <td>f1c21eda</td>\n",
              "      <td>NaN</td>\n",
              "      <td>NaN</td>\n",
              "      <td>NaN</td>\n",
              "      <td>Chow Time</td>\n",
              "      <td>Game</td>\n",
              "      <td>MAGMAPEAK</td>\n",
              "      <td>NaN</td>\n",
              "      <td>NaN</td>\n",
              "      <td>2019-09-27</td>\n",
              "      <td>NaN</td>\n",
              "      <td>Friday</td>\n",
              "    </tr>\n",
              "    <tr>\n",
              "      <th>freq</th>\n",
              "      <td>274673</td>\n",
              "      <td>3368</td>\n",
              "      <td>11</td>\n",
              "      <td>183676</td>\n",
              "      <td>58988</td>\n",
              "      <td>NaN</td>\n",
              "      <td>NaN</td>\n",
              "      <td>NaN</td>\n",
              "      <td>1150974</td>\n",
              "      <td>5795293</td>\n",
              "      <td>5023687</td>\n",
              "      <td>NaN</td>\n",
              "      <td>NaN</td>\n",
              "      <td>200217</td>\n",
              "      <td>NaN</td>\n",
              "      <td>1801243</td>\n",
              "    </tr>\n",
              "    <tr>\n",
              "      <th>first</th>\n",
              "      <td>NaN</td>\n",
              "      <td>NaN</td>\n",
              "      <td>2019-07-23 02:12:17.279000+00:00</td>\n",
              "      <td>NaN</td>\n",
              "      <td>NaN</td>\n",
              "      <td>NaN</td>\n",
              "      <td>NaN</td>\n",
              "      <td>NaN</td>\n",
              "      <td>NaN</td>\n",
              "      <td>NaN</td>\n",
              "      <td>NaN</td>\n",
              "      <td>NaN</td>\n",
              "      <td>NaN</td>\n",
              "      <td>NaN</td>\n",
              "      <td>NaN</td>\n",
              "      <td>NaN</td>\n",
              "    </tr>\n",
              "    <tr>\n",
              "      <th>last</th>\n",
              "      <td>NaN</td>\n",
              "      <td>NaN</td>\n",
              "      <td>2019-10-22 17:41:45.983000+00:00</td>\n",
              "      <td>NaN</td>\n",
              "      <td>NaN</td>\n",
              "      <td>NaN</td>\n",
              "      <td>NaN</td>\n",
              "      <td>NaN</td>\n",
              "      <td>NaN</td>\n",
              "      <td>NaN</td>\n",
              "      <td>NaN</td>\n",
              "      <td>NaN</td>\n",
              "      <td>NaN</td>\n",
              "      <td>NaN</td>\n",
              "      <td>NaN</td>\n",
              "      <td>NaN</td>\n",
              "    </tr>\n",
              "    <tr>\n",
              "      <th>mean</th>\n",
              "      <td>NaN</td>\n",
              "      <td>NaN</td>\n",
              "      <td>NaN</td>\n",
              "      <td>NaN</td>\n",
              "      <td>NaN</td>\n",
              "      <td>1.056642e+02</td>\n",
              "      <td>3.513838e+03</td>\n",
              "      <td>1.976236e+05</td>\n",
              "      <td>NaN</td>\n",
              "      <td>NaN</td>\n",
              "      <td>NaN</td>\n",
              "      <td>2.040969e+09</td>\n",
              "      <td>9.251977e+18</td>\n",
              "      <td>NaN</td>\n",
              "      <td>1.477273e+01</td>\n",
              "      <td>NaN</td>\n",
              "    </tr>\n",
              "    <tr>\n",
              "      <th>std</th>\n",
              "      <td>NaN</td>\n",
              "      <td>NaN</td>\n",
              "      <td>NaN</td>\n",
              "      <td>NaN</td>\n",
              "      <td>NaN</td>\n",
              "      <td>1.483477e+02</td>\n",
              "      <td>6.816470e+02</td>\n",
              "      <td>1.803968e+06</td>\n",
              "      <td>NaN</td>\n",
              "      <td>NaN</td>\n",
              "      <td>NaN</td>\n",
              "      <td>1.197760e+09</td>\n",
              "      <td>5.332447e+18</td>\n",
              "      <td>NaN</td>\n",
              "      <td>6.779303e+00</td>\n",
              "      <td>NaN</td>\n",
              "    </tr>\n",
              "    <tr>\n",
              "      <th>min</th>\n",
              "      <td>NaN</td>\n",
              "      <td>NaN</td>\n",
              "      <td>NaN</td>\n",
              "      <td>NaN</td>\n",
              "      <td>NaN</td>\n",
              "      <td>1.000000e+00</td>\n",
              "      <td>2.000000e+03</td>\n",
              "      <td>0.000000e+00</td>\n",
              "      <td>NaN</td>\n",
              "      <td>NaN</td>\n",
              "      <td>NaN</td>\n",
              "      <td>3.986158e+06</td>\n",
              "      <td>1.351784e+13</td>\n",
              "      <td>NaN</td>\n",
              "      <td>0.000000e+00</td>\n",
              "      <td>NaN</td>\n",
              "    </tr>\n",
              "    <tr>\n",
              "      <th>25%</th>\n",
              "      <td>NaN</td>\n",
              "      <td>NaN</td>\n",
              "      <td>NaN</td>\n",
              "      <td>NaN</td>\n",
              "      <td>NaN</td>\n",
              "      <td>2.500000e+01</td>\n",
              "      <td>3.021000e+03</td>\n",
              "      <td>3.061800e+04</td>\n",
              "      <td>NaN</td>\n",
              "      <td>NaN</td>\n",
              "      <td>NaN</td>\n",
              "      <td>1.032610e+09</td>\n",
              "      <td>4.607136e+18</td>\n",
              "      <td>NaN</td>\n",
              "      <td>1.300000e+01</td>\n",
              "      <td>NaN</td>\n",
              "    </tr>\n",
              "    <tr>\n",
              "      <th>50%</th>\n",
              "      <td>NaN</td>\n",
              "      <td>NaN</td>\n",
              "      <td>NaN</td>\n",
              "      <td>NaN</td>\n",
              "      <td>NaN</td>\n",
              "      <td>6.100000e+01</td>\n",
              "      <td>4.020000e+03</td>\n",
              "      <td>7.276100e+04</td>\n",
              "      <td>NaN</td>\n",
              "      <td>NaN</td>\n",
              "      <td>NaN</td>\n",
              "      <td>1.961228e+09</td>\n",
              "      <td>9.260278e+18</td>\n",
              "      <td>NaN</td>\n",
              "      <td>1.600000e+01</td>\n",
              "      <td>NaN</td>\n",
              "    </tr>\n",
              "    <tr>\n",
              "      <th>75%</th>\n",
              "      <td>NaN</td>\n",
              "      <td>NaN</td>\n",
              "      <td>NaN</td>\n",
              "      <td>NaN</td>\n",
              "      <td>NaN</td>\n",
              "      <td>1.290000e+02</td>\n",
              "      <td>4.035000e+03</td>\n",
              "      <td>1.574460e+05</td>\n",
              "      <td>NaN</td>\n",
              "      <td>NaN</td>\n",
              "      <td>NaN</td>\n",
              "      <td>3.141417e+09</td>\n",
              "      <td>1.385727e+19</td>\n",
              "      <td>NaN</td>\n",
              "      <td>2.000000e+01</td>\n",
              "      <td>NaN</td>\n",
              "    </tr>\n",
              "    <tr>\n",
              "      <th>max</th>\n",
              "      <td>NaN</td>\n",
              "      <td>NaN</td>\n",
              "      <td>NaN</td>\n",
              "      <td>NaN</td>\n",
              "      <td>NaN</td>\n",
              "      <td>3.368000e+03</td>\n",
              "      <td>5.010000e+03</td>\n",
              "      <td>3.069102e+08</td>\n",
              "      <td>NaN</td>\n",
              "      <td>NaN</td>\n",
              "      <td>NaN</td>\n",
              "      <td>4.246793e+09</td>\n",
              "      <td>1.844665e+19</td>\n",
              "      <td>NaN</td>\n",
              "      <td>2.300000e+01</td>\n",
              "      <td>NaN</td>\n",
              "    </tr>\n",
              "  </tbody>\n",
              "</table>\n",
              "</div>"
            ],
            "text/plain": [
              "        event_id      game_session                         timestamp  \\\n",
              "count   11341042          11341042                          11341042   \n",
              "unique       384            303319                          10777308   \n",
              "top     1325467d  6e6e697f2e593de1  2019-08-01 20:08:13.052000+00:00   \n",
              "freq      274673              3368                                11   \n",
              "first        NaN               NaN  2019-07-23 02:12:17.279000+00:00   \n",
              "last         NaN               NaN  2019-10-22 17:41:45.983000+00:00   \n",
              "mean         NaN               NaN                               NaN   \n",
              "std          NaN               NaN                               NaN   \n",
              "min          NaN               NaN                               NaN   \n",
              "25%          NaN               NaN                               NaN   \n",
              "50%          NaN               NaN                               NaN   \n",
              "75%          NaN               NaN                               NaN   \n",
              "max          NaN               NaN                               NaN   \n",
              "\n",
              "                                    event_data installation_id   event_count  \\\n",
              "count                                 11341042        11341042  1.134104e+07   \n",
              "unique                                10893749           17000           NaN   \n",
              "top     {\"event_code\": 2000, \"event_count\": 1}        f1c21eda           NaN   \n",
              "freq                                    183676           58988           NaN   \n",
              "first                                      NaN             NaN           NaN   \n",
              "last                                       NaN             NaN           NaN   \n",
              "mean                                       NaN             NaN  1.056642e+02   \n",
              "std                                        NaN             NaN  1.483477e+02   \n",
              "min                                        NaN             NaN  1.000000e+00   \n",
              "25%                                        NaN             NaN  2.500000e+01   \n",
              "50%                                        NaN             NaN  6.100000e+01   \n",
              "75%                                        NaN             NaN  1.290000e+02   \n",
              "max                                        NaN             NaN  3.368000e+03   \n",
              "\n",
              "          event_code     game_time      title      type      world  \\\n",
              "count   1.134104e+07  1.134104e+07   11341042  11341042   11341042   \n",
              "unique           NaN           NaN         44         4          4   \n",
              "top              NaN           NaN  Chow Time      Game  MAGMAPEAK   \n",
              "freq             NaN           NaN    1150974   5795293    5023687   \n",
              "first            NaN           NaN        NaN       NaN        NaN   \n",
              "last             NaN           NaN        NaN       NaN        NaN   \n",
              "mean    3.513838e+03  1.976236e+05        NaN       NaN        NaN   \n",
              "std     6.816470e+02  1.803968e+06        NaN       NaN        NaN   \n",
              "min     2.000000e+03  0.000000e+00        NaN       NaN        NaN   \n",
              "25%     3.021000e+03  3.061800e+04        NaN       NaN        NaN   \n",
              "50%     4.020000e+03  7.276100e+04        NaN       NaN        NaN   \n",
              "75%     4.035000e+03  1.574460e+05        NaN       NaN        NaN   \n",
              "max     5.010000e+03  3.069102e+08        NaN       NaN        NaN   \n",
              "\n",
              "        event_id_as_int  game_session_as_int        date          hour  \\\n",
              "count      1.134104e+07         1.134104e+07    11341042  1.134104e+07   \n",
              "unique              NaN                  NaN          85           NaN   \n",
              "top                 NaN                  NaN  2019-09-27           NaN   \n",
              "freq                NaN                  NaN      200217           NaN   \n",
              "first               NaN                  NaN         NaN           NaN   \n",
              "last                NaN                  NaN         NaN           NaN   \n",
              "mean       2.040969e+09         9.251977e+18         NaN  1.477273e+01   \n",
              "std        1.197760e+09         5.332447e+18         NaN  6.779303e+00   \n",
              "min        3.986158e+06         1.351784e+13         NaN  0.000000e+00   \n",
              "25%        1.032610e+09         4.607136e+18         NaN  1.300000e+01   \n",
              "50%        1.961228e+09         9.260278e+18         NaN  1.600000e+01   \n",
              "75%        3.141417e+09         1.385727e+19         NaN  2.000000e+01   \n",
              "max        4.246793e+09         1.844665e+19         NaN  2.300000e+01   \n",
              "\n",
              "       weekday_name  \n",
              "count      11341042  \n",
              "unique            7  \n",
              "top          Friday  \n",
              "freq        1801243  \n",
              "first           NaN  \n",
              "last            NaN  \n",
              "mean            NaN  \n",
              "std             NaN  \n",
              "min             NaN  \n",
              "25%             NaN  \n",
              "50%             NaN  \n",
              "75%             NaN  \n",
              "max             NaN  "
            ]
          },
          "metadata": {
            "tags": []
          },
          "execution_count": 40
        }
      ]
    },
    {
      "cell_type": "code",
      "metadata": {
        "id": "t0umO_NcrMQa",
        "colab_type": "code",
        "colab": {}
      },
      "source": [
        "import tqdm"
      ],
      "execution_count": 0,
      "outputs": []
    },
    {
      "cell_type": "code",
      "metadata": {
        "id": "efaZYerVtZh5",
        "colab_type": "code",
        "colab": {}
      },
      "source": [
        "event_code_df = train[~train.event_code.duplicated(keep=\"first\")].reset_index(drop=True)"
      ],
      "execution_count": 0,
      "outputs": []
    },
    {
      "cell_type": "code",
      "metadata": {
        "id": "bcWS4I3Xmmt2",
        "colab_type": "code",
        "outputId": "6d9017e4-7126-448a-ec69-83bd8257a757",
        "colab": {
          "base_uri": "https://localhost:8080/",
          "height": 34
        }
      },
      "source": [
        "data_frame = pd.DataFrame(columns=[\"path_name\", \"value\", \"ids\"])\n",
        "\n",
        "for iteration in tqdm.tqdm(range(event_code_df.index.size)):\n",
        "  json_dict = json.loads(event_code_df['event_data'][iteration])\n",
        "  ids = train.index[iteration]\n",
        "\n",
        "  # JSONのパース\n",
        "  for k,v in json_dict.items(): \n",
        "      if isinstance(v, dict):\n",
        "          for x,y in v.items():\n",
        "              if isinstance(y, dict):\n",
        "                  for xx,yy in y.items():\n",
        "                      if isinstance(yy, list):\n",
        "                          for each_element in yy:\n",
        "                              ids = ids + 1\n",
        "                              if isinstance(each_element, dict):\n",
        "                                  for xxx,yyy in each_element.items():\n",
        "                                      path_string = str(k)+\".\"+str(x)+\".\"+str(xx)+\".\"+str(xxx)\n",
        "                                      df = pd.DataFrame([[str(path_string), str(yyy), ids]],\n",
        "                                                                            columns=data_frame.columns)\n",
        "                                      data_frame = data_frame.append(df).reset_index(drop=True)\n",
        "                      else:\n",
        "                          if isinstance(yy, dict):\n",
        "                              for each_element_x,each_element_y  in yy.items():\n",
        "                                  if isinstance(each_element_y, dict):\n",
        "                                      for xxx,yyy in each_element_y.items():\n",
        "                                          path_string = str(k)+\".\"+str(x)+\".\"+str(xx)+\".\"+ str(each_element_x) + \".\" +str(xxx)\n",
        "                                          df = pd.DataFrame([[str(path_string), str(yyy), ids]],\n",
        "                                                                            columns=data_frame.columns)\n",
        "                                          data_frame = data_frame.append(df).reset_index(drop=True)\n",
        "\n",
        "\n",
        "                                  elif isinstance(each_element_y, str):\n",
        "                                      path_string = str(k)+\".\"+str(x)+\".\"+str(xx)+ \".\"+ str(each_element_x) \n",
        "                                      df = pd.DataFrame([[str(path_string), str(each_element_y), ids]],\n",
        "                                                                              columns=data_frame.columns)\n",
        "                                      data_frame = data_frame.append(df).reset_index(drop=True)\n",
        "\n",
        "                          else:\n",
        "                              path_string = str(k)+\".\"+str(x)+\".\"+str(xx)\n",
        "                              df = pd.DataFrame([[str(path_string), str(yy), ids]],\n",
        "                                              columns=data_frame.columns)\n",
        "                              data_frame = data_frame.append(df).reset_index(drop=True)\n",
        "\n",
        "\n",
        "              else:\n",
        "                  path_string = str(k)+\".\"+str(x)\n",
        "                  df = pd.DataFrame([[str(path_string), str(y), ids]],\n",
        "                                    columns=data_frame.columns)\n",
        "                  data_frame = data_frame.append(df).reset_index(drop=True)\n",
        "      else:\n",
        "        path_string = str(k)\n",
        "        df = pd.DataFrame([[str(path_string), str(v), ids]],\n",
        "                            columns=data_frame.columns)\n",
        "        data_frame = data_frame.append(df).reset_index(drop=True)"
      ],
      "execution_count": 16,
      "outputs": [
        {
          "output_type": "stream",
          "text": [
            "100%|██████████| 42/42 [00:00<00:00, 90.22it/s]\n"
          ],
          "name": "stderr"
        }
      ]
    },
    {
      "cell_type": "code",
      "metadata": {
        "id": "9i_5-zCYoXdF",
        "colab_type": "code",
        "outputId": "2ca5e8b9-afbb-4064-eb90-8ef1f6a92e87",
        "colab": {
          "base_uri": "https://localhost:8080/",
          "height": 884
        }
      },
      "source": [
        "data_frame.path_name.value_counts()/event_code_df.index.size"
      ],
      "execution_count": 17,
      "outputs": [
        {
          "output_type": "execute_result",
          "data": {
            "text/plain": [
              "event_code                  1.000000\n",
              "event_count                 1.000000\n",
              "game_time                   0.976190\n",
              "round                       0.595238\n",
              "duration                    0.428571\n",
              "coordinates.x               0.285714\n",
              "level                       0.285714\n",
              "coordinates.stage_width     0.285714\n",
              "coordinates.y               0.285714\n",
              "coordinates.stage_height    0.285714\n",
              "description                 0.214286\n",
              "identifier                  0.142857\n",
              "media_type                  0.142857\n",
              "size                        0.095238\n",
              "movie_id                    0.071429\n",
              "total_duration              0.071429\n",
              "castles_placed              0.047619\n",
              "misses                      0.047619\n",
              "round_target.size           0.047619\n",
              "stumps                      0.047619\n",
              "toy                         0.047619\n",
              "round_target.type           0.047619\n",
              "round_target.animal         0.047619\n",
              "filled                      0.047619\n",
              "object                      0.047619\n",
              "water_level                 0.047619\n",
              "dinosaurs                   0.023810\n",
              "flower                      0.023810\n",
              "source                      0.023810\n",
              "height                      0.023810\n",
              "shell_size                  0.023810\n",
              "correct                     0.023810\n",
              "distance                    0.023810\n",
              "max_position                0.023810\n",
              "molds                       0.023810\n",
              "cloud                       0.023810\n",
              "sand                        0.023810\n",
              "exit_type                   0.023810\n",
              "tutorial_step               0.023810\n",
              "options                     0.023810\n",
              "session_duration            0.023810\n",
              "target_containers           0.023810\n",
              "houses                      0.023810\n",
              "end_position                0.023810\n",
              "dwell_time                  0.023810\n",
              "animals                     0.023810\n",
              "cloud_size                  0.023810\n",
              "flowers                     0.023810\n",
              "time_played                 0.023810\n",
              "dinosaurs_placed            0.023810\n",
              "Name: path_name, dtype: float64"
            ]
          },
          "metadata": {
            "tags": []
          },
          "execution_count": 17
        }
      ]
    },
    {
      "cell_type": "markdown",
      "metadata": {
        "id": "t2GkmoBst__x",
        "colab_type": "text"
      },
      "source": [
        "+ game_timeはほとんどで入っている。\n",
        "+ round\n",
        "+ duration\n",
        "+ coordinates.stage_height\n",
        "+ coordinates.x\n",
        "+ level\n",
        "+ coordinates.stage_width\n",
        "+ coordinates.y\n",
        "\n",
        "trainに横持ちでこれらのデータを付けていきたい。"
      ]
    },
    {
      "cell_type": "code",
      "metadata": {
        "id": "juqicUJsu_xK",
        "colab_type": "code",
        "colab": {}
      },
      "source": [
        "event_data_json_list = ['event_code','event_count','description','identifier','media_type',\n",
        " 'total_duration','game_time','duration','coordinates','castles_placed',\n",
        " 'molds','size','sand','filled','level','round','movie_id','round_target',\n",
        " 'options','animals','misses','shell_size','cloud','cloud_size','water_level',\n",
        " 'time_played','houses','dinosaurs','dinosaurs_placed','flower','flowers',\n",
        " 'height','stumps','source','correct','session_duration','exit_type','distance',\n",
        " 'target_containers','object','tutorial_step','toy','dwell_time','max_position',\n",
        " 'end_position']\n",
        "event_data_json_list_column_name = [ 'j_' + i for i in event_data_json_list]"
      ],
      "execution_count": 0,
      "outputs": []
    },
    {
      "cell_type": "code",
      "metadata": {
        "id": "HoJ2GgAlyxyU",
        "colab_type": "code",
        "colab": {}
      },
      "source": [
        "# jsonの要素に関してカラムを作る\n",
        "new_cols = event_data_json_list_column_name\n",
        "new_vals = np.zeros((len(event_data_json_list_column_name))).tolist()\n",
        "new_vals = np.nan\n",
        "\n",
        "train = train.reindex(columns=train.columns.tolist() + new_cols)   # add empty cols\n",
        "train[new_cols] = new_vals"
      ],
      "execution_count": 0,
      "outputs": []
    },
    {
      "cell_type": "code",
      "metadata": {
        "id": "vKpM8NcV0e83",
        "colab_type": "code",
        "colab": {}
      },
      "source": [
        "# 辞書形式からキーとバリューを抽出する\n",
        "def extract_from_dict(dictionary, key):\n",
        "    if dictionary != None:\n",
        "        return dictionary[key]\n",
        "    else:\n",
        "        return None\n",
        "\n",
        "def extract_match_key_from_dict(text, key):\n",
        "  import json\n",
        "  dictionary = json.loads(text)\n",
        "  try:\n",
        "    return dictionary[key]\n",
        "  except:\n",
        "    return None"
      ],
      "execution_count": 0,
      "outputs": []
    },
    {
      "cell_type": "code",
      "metadata": {
        "id": "Gg5ui5NQ0AgA",
        "colab_type": "code",
        "outputId": "0d49c886-54b1-4c6a-f077-6d269101be2e",
        "colab": {
          "base_uri": "https://localhost:8080/",
          "height": 428
        }
      },
      "source": [
        "train.head(5)"
      ],
      "execution_count": 22,
      "outputs": [
        {
          "output_type": "execute_result",
          "data": {
            "text/html": [
              "<div>\n",
              "<style scoped>\n",
              "    .dataframe tbody tr th:only-of-type {\n",
              "        vertical-align: middle;\n",
              "    }\n",
              "\n",
              "    .dataframe tbody tr th {\n",
              "        vertical-align: top;\n",
              "    }\n",
              "\n",
              "    .dataframe thead th {\n",
              "        text-align: right;\n",
              "    }\n",
              "</style>\n",
              "<table border=\"1\" class=\"dataframe\">\n",
              "  <thead>\n",
              "    <tr style=\"text-align: right;\">\n",
              "      <th></th>\n",
              "      <th>event_id</th>\n",
              "      <th>game_session</th>\n",
              "      <th>timestamp</th>\n",
              "      <th>event_data</th>\n",
              "      <th>installation_id</th>\n",
              "      <th>event_count</th>\n",
              "      <th>event_code</th>\n",
              "      <th>game_time</th>\n",
              "      <th>title</th>\n",
              "      <th>type</th>\n",
              "      <th>world</th>\n",
              "      <th>event_id_as_int</th>\n",
              "      <th>game_session_as_int</th>\n",
              "      <th>date</th>\n",
              "      <th>hour</th>\n",
              "      <th>weekday_name</th>\n",
              "      <th>j_event_code</th>\n",
              "      <th>j_event_count</th>\n",
              "      <th>j_description</th>\n",
              "      <th>j_identifier</th>\n",
              "      <th>j_media_type</th>\n",
              "      <th>j_total_duration</th>\n",
              "      <th>j_game_time</th>\n",
              "      <th>j_duration</th>\n",
              "      <th>j_coordinates</th>\n",
              "      <th>j_castles_placed</th>\n",
              "      <th>j_molds</th>\n",
              "      <th>j_size</th>\n",
              "      <th>j_sand</th>\n",
              "      <th>j_filled</th>\n",
              "      <th>j_level</th>\n",
              "      <th>j_round</th>\n",
              "      <th>j_movie_id</th>\n",
              "      <th>j_round_target</th>\n",
              "      <th>j_options</th>\n",
              "      <th>j_animals</th>\n",
              "      <th>j_misses</th>\n",
              "      <th>j_shell_size</th>\n",
              "      <th>j_cloud</th>\n",
              "      <th>j_cloud_size</th>\n",
              "      <th>j_water_level</th>\n",
              "      <th>j_time_played</th>\n",
              "      <th>j_houses</th>\n",
              "      <th>j_dinosaurs</th>\n",
              "      <th>j_dinosaurs_placed</th>\n",
              "      <th>j_flower</th>\n",
              "      <th>j_flowers</th>\n",
              "      <th>j_height</th>\n",
              "      <th>j_stumps</th>\n",
              "      <th>j_source</th>\n",
              "      <th>j_correct</th>\n",
              "      <th>j_session_duration</th>\n",
              "      <th>j_exit_type</th>\n",
              "      <th>j_distance</th>\n",
              "      <th>j_target_containers</th>\n",
              "      <th>j_object</th>\n",
              "      <th>j_tutorial_step</th>\n",
              "      <th>j_toy</th>\n",
              "      <th>j_dwell_time</th>\n",
              "      <th>j_max_position</th>\n",
              "      <th>j_end_position</th>\n",
              "    </tr>\n",
              "  </thead>\n",
              "  <tbody>\n",
              "    <tr>\n",
              "      <th>0</th>\n",
              "      <td>27253bdc</td>\n",
              "      <td>45bb1e1b6b50c07b</td>\n",
              "      <td>2019-09-06 17:53:46.937000+00:00</td>\n",
              "      <td>{\"event_code\": 2000, \"event_count\": 1}</td>\n",
              "      <td>0001e90f</td>\n",
              "      <td>1</td>\n",
              "      <td>2000</td>\n",
              "      <td>0</td>\n",
              "      <td>Welcome to Lost Lagoon!</td>\n",
              "      <td>Clip</td>\n",
              "      <td>NONE</td>\n",
              "      <td>656751580</td>\n",
              "      <td>5024642912375324795</td>\n",
              "      <td>2019-09-06</td>\n",
              "      <td>17</td>\n",
              "      <td>Friday</td>\n",
              "      <td>NaN</td>\n",
              "      <td>NaN</td>\n",
              "      <td>NaN</td>\n",
              "      <td>NaN</td>\n",
              "      <td>NaN</td>\n",
              "      <td>NaN</td>\n",
              "      <td>NaN</td>\n",
              "      <td>NaN</td>\n",
              "      <td>NaN</td>\n",
              "      <td>NaN</td>\n",
              "      <td>NaN</td>\n",
              "      <td>NaN</td>\n",
              "      <td>NaN</td>\n",
              "      <td>NaN</td>\n",
              "      <td>NaN</td>\n",
              "      <td>NaN</td>\n",
              "      <td>NaN</td>\n",
              "      <td>NaN</td>\n",
              "      <td>NaN</td>\n",
              "      <td>NaN</td>\n",
              "      <td>NaN</td>\n",
              "      <td>NaN</td>\n",
              "      <td>NaN</td>\n",
              "      <td>NaN</td>\n",
              "      <td>NaN</td>\n",
              "      <td>NaN</td>\n",
              "      <td>NaN</td>\n",
              "      <td>NaN</td>\n",
              "      <td>NaN</td>\n",
              "      <td>NaN</td>\n",
              "      <td>NaN</td>\n",
              "      <td>NaN</td>\n",
              "      <td>NaN</td>\n",
              "      <td>NaN</td>\n",
              "      <td>NaN</td>\n",
              "      <td>NaN</td>\n",
              "      <td>NaN</td>\n",
              "      <td>NaN</td>\n",
              "      <td>NaN</td>\n",
              "      <td>NaN</td>\n",
              "      <td>NaN</td>\n",
              "      <td>NaN</td>\n",
              "      <td>NaN</td>\n",
              "      <td>NaN</td>\n",
              "      <td>NaN</td>\n",
              "    </tr>\n",
              "    <tr>\n",
              "      <th>1</th>\n",
              "      <td>27253bdc</td>\n",
              "      <td>17eeb7f223665f53</td>\n",
              "      <td>2019-09-06 17:54:17.519000+00:00</td>\n",
              "      <td>{\"event_code\": 2000, \"event_count\": 1}</td>\n",
              "      <td>0001e90f</td>\n",
              "      <td>1</td>\n",
              "      <td>2000</td>\n",
              "      <td>0</td>\n",
              "      <td>Magma Peak - Level 1</td>\n",
              "      <td>Clip</td>\n",
              "      <td>MAGMAPEAK</td>\n",
              "      <td>656751580</td>\n",
              "      <td>1724517957933358931</td>\n",
              "      <td>2019-09-06</td>\n",
              "      <td>17</td>\n",
              "      <td>Friday</td>\n",
              "      <td>NaN</td>\n",
              "      <td>NaN</td>\n",
              "      <td>NaN</td>\n",
              "      <td>NaN</td>\n",
              "      <td>NaN</td>\n",
              "      <td>NaN</td>\n",
              "      <td>NaN</td>\n",
              "      <td>NaN</td>\n",
              "      <td>NaN</td>\n",
              "      <td>NaN</td>\n",
              "      <td>NaN</td>\n",
              "      <td>NaN</td>\n",
              "      <td>NaN</td>\n",
              "      <td>NaN</td>\n",
              "      <td>NaN</td>\n",
              "      <td>NaN</td>\n",
              "      <td>NaN</td>\n",
              "      <td>NaN</td>\n",
              "      <td>NaN</td>\n",
              "      <td>NaN</td>\n",
              "      <td>NaN</td>\n",
              "      <td>NaN</td>\n",
              "      <td>NaN</td>\n",
              "      <td>NaN</td>\n",
              "      <td>NaN</td>\n",
              "      <td>NaN</td>\n",
              "      <td>NaN</td>\n",
              "      <td>NaN</td>\n",
              "      <td>NaN</td>\n",
              "      <td>NaN</td>\n",
              "      <td>NaN</td>\n",
              "      <td>NaN</td>\n",
              "      <td>NaN</td>\n",
              "      <td>NaN</td>\n",
              "      <td>NaN</td>\n",
              "      <td>NaN</td>\n",
              "      <td>NaN</td>\n",
              "      <td>NaN</td>\n",
              "      <td>NaN</td>\n",
              "      <td>NaN</td>\n",
              "      <td>NaN</td>\n",
              "      <td>NaN</td>\n",
              "      <td>NaN</td>\n",
              "      <td>NaN</td>\n",
              "      <td>NaN</td>\n",
              "    </tr>\n",
              "    <tr>\n",
              "      <th>2</th>\n",
              "      <td>77261ab5</td>\n",
              "      <td>0848ef14a8dc6892</td>\n",
              "      <td>2019-09-06 17:54:56.302000+00:00</td>\n",
              "      <td>{\"version\":\"1.0\",\"event_count\":1,\"game_time\":0,\"event_code\":2000}</td>\n",
              "      <td>0001e90f</td>\n",
              "      <td>1</td>\n",
              "      <td>2000</td>\n",
              "      <td>0</td>\n",
              "      <td>Sandcastle Builder (Activity)</td>\n",
              "      <td>Activity</td>\n",
              "      <td>MAGMAPEAK</td>\n",
              "      <td>1998985909</td>\n",
              "      <td>596989822637992082</td>\n",
              "      <td>2019-09-06</td>\n",
              "      <td>17</td>\n",
              "      <td>Friday</td>\n",
              "      <td>NaN</td>\n",
              "      <td>NaN</td>\n",
              "      <td>NaN</td>\n",
              "      <td>NaN</td>\n",
              "      <td>NaN</td>\n",
              "      <td>NaN</td>\n",
              "      <td>NaN</td>\n",
              "      <td>NaN</td>\n",
              "      <td>NaN</td>\n",
              "      <td>NaN</td>\n",
              "      <td>NaN</td>\n",
              "      <td>NaN</td>\n",
              "      <td>NaN</td>\n",
              "      <td>NaN</td>\n",
              "      <td>NaN</td>\n",
              "      <td>NaN</td>\n",
              "      <td>NaN</td>\n",
              "      <td>NaN</td>\n",
              "      <td>NaN</td>\n",
              "      <td>NaN</td>\n",
              "      <td>NaN</td>\n",
              "      <td>NaN</td>\n",
              "      <td>NaN</td>\n",
              "      <td>NaN</td>\n",
              "      <td>NaN</td>\n",
              "      <td>NaN</td>\n",
              "      <td>NaN</td>\n",
              "      <td>NaN</td>\n",
              "      <td>NaN</td>\n",
              "      <td>NaN</td>\n",
              "      <td>NaN</td>\n",
              "      <td>NaN</td>\n",
              "      <td>NaN</td>\n",
              "      <td>NaN</td>\n",
              "      <td>NaN</td>\n",
              "      <td>NaN</td>\n",
              "      <td>NaN</td>\n",
              "      <td>NaN</td>\n",
              "      <td>NaN</td>\n",
              "      <td>NaN</td>\n",
              "      <td>NaN</td>\n",
              "      <td>NaN</td>\n",
              "      <td>NaN</td>\n",
              "      <td>NaN</td>\n",
              "      <td>NaN</td>\n",
              "    </tr>\n",
              "    <tr>\n",
              "      <th>3</th>\n",
              "      <td>b2dba42b</td>\n",
              "      <td>0848ef14a8dc6892</td>\n",
              "      <td>2019-09-06 17:54:56.387000+00:00</td>\n",
              "      <td>{\"description\":\"Let's build a sandcastle! First, fill up your mold with sand! You can use the shovel here. The mold gives the sand its shape!\",\"identifier\":\"Dot_LetsSandcastle,Dot_FillMold,Dot_Mol...</td>\n",
              "      <td>0001e90f</td>\n",
              "      <td>2</td>\n",
              "      <td>3010</td>\n",
              "      <td>53</td>\n",
              "      <td>Sandcastle Builder (Activity)</td>\n",
              "      <td>Activity</td>\n",
              "      <td>MAGMAPEAK</td>\n",
              "      <td>3000738859</td>\n",
              "      <td>596989822637992082</td>\n",
              "      <td>2019-09-06</td>\n",
              "      <td>17</td>\n",
              "      <td>Friday</td>\n",
              "      <td>NaN</td>\n",
              "      <td>NaN</td>\n",
              "      <td>NaN</td>\n",
              "      <td>NaN</td>\n",
              "      <td>NaN</td>\n",
              "      <td>NaN</td>\n",
              "      <td>NaN</td>\n",
              "      <td>NaN</td>\n",
              "      <td>NaN</td>\n",
              "      <td>NaN</td>\n",
              "      <td>NaN</td>\n",
              "      <td>NaN</td>\n",
              "      <td>NaN</td>\n",
              "      <td>NaN</td>\n",
              "      <td>NaN</td>\n",
              "      <td>NaN</td>\n",
              "      <td>NaN</td>\n",
              "      <td>NaN</td>\n",
              "      <td>NaN</td>\n",
              "      <td>NaN</td>\n",
              "      <td>NaN</td>\n",
              "      <td>NaN</td>\n",
              "      <td>NaN</td>\n",
              "      <td>NaN</td>\n",
              "      <td>NaN</td>\n",
              "      <td>NaN</td>\n",
              "      <td>NaN</td>\n",
              "      <td>NaN</td>\n",
              "      <td>NaN</td>\n",
              "      <td>NaN</td>\n",
              "      <td>NaN</td>\n",
              "      <td>NaN</td>\n",
              "      <td>NaN</td>\n",
              "      <td>NaN</td>\n",
              "      <td>NaN</td>\n",
              "      <td>NaN</td>\n",
              "      <td>NaN</td>\n",
              "      <td>NaN</td>\n",
              "      <td>NaN</td>\n",
              "      <td>NaN</td>\n",
              "      <td>NaN</td>\n",
              "      <td>NaN</td>\n",
              "      <td>NaN</td>\n",
              "      <td>NaN</td>\n",
              "      <td>NaN</td>\n",
              "    </tr>\n",
              "    <tr>\n",
              "      <th>4</th>\n",
              "      <td>1bb5fbdb</td>\n",
              "      <td>0848ef14a8dc6892</td>\n",
              "      <td>2019-09-06 17:55:03.253000+00:00</td>\n",
              "      <td>{\"description\":\"Let's build a sandcastle! First, fill up your mold with sand! You can use the shovel here. The mold gives the sand its shape!\",\"identifier\":\"Dot_LetsSandcastle,Dot_FillMold,Dot_Mol...</td>\n",
              "      <td>0001e90f</td>\n",
              "      <td>3</td>\n",
              "      <td>3110</td>\n",
              "      <td>6972</td>\n",
              "      <td>Sandcastle Builder (Activity)</td>\n",
              "      <td>Activity</td>\n",
              "      <td>MAGMAPEAK</td>\n",
              "      <td>464911323</td>\n",
              "      <td>596989822637992082</td>\n",
              "      <td>2019-09-06</td>\n",
              "      <td>17</td>\n",
              "      <td>Friday</td>\n",
              "      <td>NaN</td>\n",
              "      <td>NaN</td>\n",
              "      <td>NaN</td>\n",
              "      <td>NaN</td>\n",
              "      <td>NaN</td>\n",
              "      <td>NaN</td>\n",
              "      <td>NaN</td>\n",
              "      <td>NaN</td>\n",
              "      <td>NaN</td>\n",
              "      <td>NaN</td>\n",
              "      <td>NaN</td>\n",
              "      <td>NaN</td>\n",
              "      <td>NaN</td>\n",
              "      <td>NaN</td>\n",
              "      <td>NaN</td>\n",
              "      <td>NaN</td>\n",
              "      <td>NaN</td>\n",
              "      <td>NaN</td>\n",
              "      <td>NaN</td>\n",
              "      <td>NaN</td>\n",
              "      <td>NaN</td>\n",
              "      <td>NaN</td>\n",
              "      <td>NaN</td>\n",
              "      <td>NaN</td>\n",
              "      <td>NaN</td>\n",
              "      <td>NaN</td>\n",
              "      <td>NaN</td>\n",
              "      <td>NaN</td>\n",
              "      <td>NaN</td>\n",
              "      <td>NaN</td>\n",
              "      <td>NaN</td>\n",
              "      <td>NaN</td>\n",
              "      <td>NaN</td>\n",
              "      <td>NaN</td>\n",
              "      <td>NaN</td>\n",
              "      <td>NaN</td>\n",
              "      <td>NaN</td>\n",
              "      <td>NaN</td>\n",
              "      <td>NaN</td>\n",
              "      <td>NaN</td>\n",
              "      <td>NaN</td>\n",
              "      <td>NaN</td>\n",
              "      <td>NaN</td>\n",
              "      <td>NaN</td>\n",
              "      <td>NaN</td>\n",
              "    </tr>\n",
              "  </tbody>\n",
              "</table>\n",
              "</div>"
            ],
            "text/plain": [
              "   event_id      game_session                        timestamp  \\\n",
              "0  27253bdc  45bb1e1b6b50c07b 2019-09-06 17:53:46.937000+00:00   \n",
              "1  27253bdc  17eeb7f223665f53 2019-09-06 17:54:17.519000+00:00   \n",
              "2  77261ab5  0848ef14a8dc6892 2019-09-06 17:54:56.302000+00:00   \n",
              "3  b2dba42b  0848ef14a8dc6892 2019-09-06 17:54:56.387000+00:00   \n",
              "4  1bb5fbdb  0848ef14a8dc6892 2019-09-06 17:55:03.253000+00:00   \n",
              "\n",
              "                                                                                                                                                                                                event_data  \\\n",
              "0                                                                                                                                                                   {\"event_code\": 2000, \"event_count\": 1}   \n",
              "1                                                                                                                                                                   {\"event_code\": 2000, \"event_count\": 1}   \n",
              "2                                                                                                                                        {\"version\":\"1.0\",\"event_count\":1,\"game_time\":0,\"event_code\":2000}   \n",
              "3  {\"description\":\"Let's build a sandcastle! First, fill up your mold with sand! You can use the shovel here. The mold gives the sand its shape!\",\"identifier\":\"Dot_LetsSandcastle,Dot_FillMold,Dot_Mol...   \n",
              "4  {\"description\":\"Let's build a sandcastle! First, fill up your mold with sand! You can use the shovel here. The mold gives the sand its shape!\",\"identifier\":\"Dot_LetsSandcastle,Dot_FillMold,Dot_Mol...   \n",
              "\n",
              "  installation_id  event_count  event_code  game_time  \\\n",
              "0        0001e90f            1        2000          0   \n",
              "1        0001e90f            1        2000          0   \n",
              "2        0001e90f            1        2000          0   \n",
              "3        0001e90f            2        3010         53   \n",
              "4        0001e90f            3        3110       6972   \n",
              "\n",
              "                           title      type      world  event_id_as_int  \\\n",
              "0        Welcome to Lost Lagoon!      Clip       NONE        656751580   \n",
              "1           Magma Peak - Level 1      Clip  MAGMAPEAK        656751580   \n",
              "2  Sandcastle Builder (Activity)  Activity  MAGMAPEAK       1998985909   \n",
              "3  Sandcastle Builder (Activity)  Activity  MAGMAPEAK       3000738859   \n",
              "4  Sandcastle Builder (Activity)  Activity  MAGMAPEAK        464911323   \n",
              "\n",
              "   game_session_as_int        date  hour weekday_name  j_event_code  \\\n",
              "0  5024642912375324795  2019-09-06    17       Friday           NaN   \n",
              "1  1724517957933358931  2019-09-06    17       Friday           NaN   \n",
              "2   596989822637992082  2019-09-06    17       Friday           NaN   \n",
              "3   596989822637992082  2019-09-06    17       Friday           NaN   \n",
              "4   596989822637992082  2019-09-06    17       Friday           NaN   \n",
              "\n",
              "   j_event_count  j_description  j_identifier  j_media_type  j_total_duration  \\\n",
              "0            NaN            NaN           NaN           NaN               NaN   \n",
              "1            NaN            NaN           NaN           NaN               NaN   \n",
              "2            NaN            NaN           NaN           NaN               NaN   \n",
              "3            NaN            NaN           NaN           NaN               NaN   \n",
              "4            NaN            NaN           NaN           NaN               NaN   \n",
              "\n",
              "   j_game_time  j_duration  j_coordinates  j_castles_placed  j_molds  j_size  \\\n",
              "0          NaN         NaN            NaN               NaN      NaN     NaN   \n",
              "1          NaN         NaN            NaN               NaN      NaN     NaN   \n",
              "2          NaN         NaN            NaN               NaN      NaN     NaN   \n",
              "3          NaN         NaN            NaN               NaN      NaN     NaN   \n",
              "4          NaN         NaN            NaN               NaN      NaN     NaN   \n",
              "\n",
              "   j_sand  j_filled  j_level  j_round  j_movie_id  j_round_target  j_options  \\\n",
              "0     NaN       NaN      NaN      NaN         NaN             NaN        NaN   \n",
              "1     NaN       NaN      NaN      NaN         NaN             NaN        NaN   \n",
              "2     NaN       NaN      NaN      NaN         NaN             NaN        NaN   \n",
              "3     NaN       NaN      NaN      NaN         NaN             NaN        NaN   \n",
              "4     NaN       NaN      NaN      NaN         NaN             NaN        NaN   \n",
              "\n",
              "   j_animals  j_misses  j_shell_size  j_cloud  j_cloud_size  j_water_level  \\\n",
              "0        NaN       NaN           NaN      NaN           NaN            NaN   \n",
              "1        NaN       NaN           NaN      NaN           NaN            NaN   \n",
              "2        NaN       NaN           NaN      NaN           NaN            NaN   \n",
              "3        NaN       NaN           NaN      NaN           NaN            NaN   \n",
              "4        NaN       NaN           NaN      NaN           NaN            NaN   \n",
              "\n",
              "   j_time_played  j_houses  j_dinosaurs  j_dinosaurs_placed  j_flower  \\\n",
              "0            NaN       NaN          NaN                 NaN       NaN   \n",
              "1            NaN       NaN          NaN                 NaN       NaN   \n",
              "2            NaN       NaN          NaN                 NaN       NaN   \n",
              "3            NaN       NaN          NaN                 NaN       NaN   \n",
              "4            NaN       NaN          NaN                 NaN       NaN   \n",
              "\n",
              "   j_flowers  j_height  j_stumps  j_source  j_correct  j_session_duration  \\\n",
              "0        NaN       NaN       NaN       NaN        NaN                 NaN   \n",
              "1        NaN       NaN       NaN       NaN        NaN                 NaN   \n",
              "2        NaN       NaN       NaN       NaN        NaN                 NaN   \n",
              "3        NaN       NaN       NaN       NaN        NaN                 NaN   \n",
              "4        NaN       NaN       NaN       NaN        NaN                 NaN   \n",
              "\n",
              "   j_exit_type  j_distance  j_target_containers  j_object  j_tutorial_step  \\\n",
              "0          NaN         NaN                  NaN       NaN              NaN   \n",
              "1          NaN         NaN                  NaN       NaN              NaN   \n",
              "2          NaN         NaN                  NaN       NaN              NaN   \n",
              "3          NaN         NaN                  NaN       NaN              NaN   \n",
              "4          NaN         NaN                  NaN       NaN              NaN   \n",
              "\n",
              "   j_toy  j_dwell_time  j_max_position  j_end_position  \n",
              "0    NaN           NaN             NaN             NaN  \n",
              "1    NaN           NaN             NaN             NaN  \n",
              "2    NaN           NaN             NaN             NaN  \n",
              "3    NaN           NaN             NaN             NaN  \n",
              "4    NaN           NaN             NaN             NaN  "
            ]
          },
          "metadata": {
            "tags": []
          },
          "execution_count": 22
        }
      ]
    },
    {
      "cell_type": "code",
      "metadata": {
        "id": "312ZV27Ipab3",
        "colab_type": "code",
        "outputId": "cfb32ee6-c7b3-4fea-b890-234b412ef670",
        "colab": {
          "base_uri": "https://localhost:8080/",
          "height": 85
        }
      },
      "source": [
        "di"
      ],
      "execution_count": 0,
      "outputs": [
        {
          "output_type": "execute_result",
          "data": {
            "text/plain": [
              "{'coordinates': {'stage_height': 762, 'stage_width': 1015, 'x': 807, 'y': 619},\n",
              " 'event_code': 4070,\n",
              " 'event_count': 9,\n",
              " 'game_time': 12672}"
            ]
          },
          "metadata": {
            "tags": []
          },
          "execution_count": 154
        }
      ]
    },
    {
      "cell_type": "code",
      "metadata": {
        "id": "oyxVv0eL7N9D",
        "colab_type": "code",
        "colab": {
          "base_uri": "https://localhost:8080/",
          "height": 34
        },
        "outputId": "e34d55e8-eaaf-41f6-f82d-ae7a871a71ac"
      },
      "source": [
        "train.shape"
      ],
      "execution_count": 34,
      "outputs": [
        {
          "output_type": "execute_result",
          "data": {
            "text/plain": [
              "(11341042, 66)"
            ]
          },
          "metadata": {
            "tags": []
          },
          "execution_count": 34
        }
      ]
    },
    {
      "cell_type": "code",
      "metadata": {
        "id": "cacz-WhK2KFJ",
        "colab_type": "code",
        "colab": {
          "base_uri": "https://localhost:8080/",
          "height": 51
        },
        "outputId": "ff585337-bbc0-41d5-fc05-257442f4f34d"
      },
      "source": [
        "%%time\n",
        "aaa = list(map(lambda text:extract_match_key_from_dict(text, 'molds'), train['event_data']))"
      ],
      "execution_count": 36,
      "outputs": [
        {
          "output_type": "stream",
          "text": [
            "CPU times: user 55.8 s, sys: 8.42 ms, total: 55.8 s\n",
            "Wall time: 55.8 s\n"
          ],
          "name": "stdout"
        }
      ]
    },
    {
      "cell_type": "markdown",
      "metadata": {
        "id": "Qi0PyRYtBR87",
        "colab_type": "text"
      },
      "source": [
        "1カラム1分くらいでいける？"
      ]
    },
    {
      "cell_type": "code",
      "metadata": {
        "id": "Vy0wJc38-Mgd",
        "colab_type": "code",
        "colab": {
          "base_uri": "https://localhost:8080/",
          "height": 34
        },
        "outputId": "2338f5c6-290e-47f5-a564-e838fcee0c2b"
      },
      "source": [
        "for i in tqdm.tqdm(range(len(event_data_json_list))):\n",
        " train[event_data_json_list_column_name[i]] = list(map(lambda text:extract_match_key_from_dict(text, event_data_json_list[i]), train['event_data']))"
      ],
      "execution_count": 27,
      "outputs": [
        {
          "output_type": "stream",
          "text": [
            "100%|██████████| 45/45 [48:55<00:00, 65.06s/it]\n"
          ],
          "name": "stderr"
        }
      ]
    },
    {
      "cell_type": "code",
      "metadata": {
        "id": "RdPzZ9in1HXg",
        "colab_type": "code",
        "colab": {
          "base_uri": "https://localhost:8080/",
          "height": 345
        },
        "outputId": "7a511a84-1d1b-47ca-f9ed-b3a3ead9174f"
      },
      "source": [
        "train.to_csv('train_json_preprocessed.csv', index=None)"
      ],
      "execution_count": 28,
      "outputs": [
        {
          "output_type": "error",
          "ename": "MessageError",
          "evalue": "ignored",
          "traceback": [
            "\u001b[0;31m---------------------------------------------------------------------------\u001b[0m",
            "\u001b[0;31mMessageError\u001b[0m                              Traceback (most recent call last)",
            "\u001b[0;32m<ipython-input-28-578413961ba9>\u001b[0m in \u001b[0;36m<module>\u001b[0;34m()\u001b[0m\n\u001b[1;32m      2\u001b[0m \u001b[0;34m\u001b[0m\u001b[0m\n\u001b[1;32m      3\u001b[0m \u001b[0;32mfrom\u001b[0m \u001b[0mgoogle\u001b[0m\u001b[0;34m.\u001b[0m\u001b[0mcolab\u001b[0m \u001b[0;32mimport\u001b[0m \u001b[0mfiles\u001b[0m\u001b[0;34m\u001b[0m\u001b[0;34m\u001b[0m\u001b[0m\n\u001b[0;32m----> 4\u001b[0;31m \u001b[0mfiles\u001b[0m\u001b[0;34m.\u001b[0m\u001b[0mdownload\u001b[0m\u001b[0;34m(\u001b[0m\u001b[0;34m\"train_json_preprocessed.csv\"\u001b[0m\u001b[0;34m)\u001b[0m\u001b[0;34m\u001b[0m\u001b[0;34m\u001b[0m\u001b[0m\n\u001b[0m",
            "\u001b[0;32m/usr/local/lib/python3.6/dist-packages/google/colab/files.py\u001b[0m in \u001b[0;36mdownload\u001b[0;34m(filename)\u001b[0m\n\u001b[1;32m    176\u001b[0m       \u001b[0;34m'port'\u001b[0m\u001b[0;34m:\u001b[0m \u001b[0mport\u001b[0m\u001b[0;34m,\u001b[0m\u001b[0;34m\u001b[0m\u001b[0;34m\u001b[0m\u001b[0m\n\u001b[1;32m    177\u001b[0m       \u001b[0;34m'path'\u001b[0m\u001b[0;34m:\u001b[0m \u001b[0m_os\u001b[0m\u001b[0;34m.\u001b[0m\u001b[0mpath\u001b[0m\u001b[0;34m.\u001b[0m\u001b[0mabspath\u001b[0m\u001b[0;34m(\u001b[0m\u001b[0mfilename\u001b[0m\u001b[0;34m)\u001b[0m\u001b[0;34m,\u001b[0m\u001b[0;34m\u001b[0m\u001b[0;34m\u001b[0m\u001b[0m\n\u001b[0;32m--> 178\u001b[0;31m       \u001b[0;34m'name'\u001b[0m\u001b[0;34m:\u001b[0m \u001b[0m_os\u001b[0m\u001b[0;34m.\u001b[0m\u001b[0mpath\u001b[0m\u001b[0;34m.\u001b[0m\u001b[0mbasename\u001b[0m\u001b[0;34m(\u001b[0m\u001b[0mfilename\u001b[0m\u001b[0;34m)\u001b[0m\u001b[0;34m,\u001b[0m\u001b[0;34m\u001b[0m\u001b[0;34m\u001b[0m\u001b[0m\n\u001b[0m\u001b[1;32m    179\u001b[0m   })\n",
            "\u001b[0;32m/usr/local/lib/python3.6/dist-packages/google/colab/output/_js.py\u001b[0m in \u001b[0;36meval_js\u001b[0;34m(script, ignore_result)\u001b[0m\n\u001b[1;32m     37\u001b[0m   \u001b[0;32mif\u001b[0m \u001b[0mignore_result\u001b[0m\u001b[0;34m:\u001b[0m\u001b[0;34m\u001b[0m\u001b[0;34m\u001b[0m\u001b[0m\n\u001b[1;32m     38\u001b[0m     \u001b[0;32mreturn\u001b[0m\u001b[0;34m\u001b[0m\u001b[0;34m\u001b[0m\u001b[0m\n\u001b[0;32m---> 39\u001b[0;31m   \u001b[0;32mreturn\u001b[0m \u001b[0m_message\u001b[0m\u001b[0;34m.\u001b[0m\u001b[0mread_reply_from_input\u001b[0m\u001b[0;34m(\u001b[0m\u001b[0mrequest_id\u001b[0m\u001b[0;34m)\u001b[0m\u001b[0;34m\u001b[0m\u001b[0;34m\u001b[0m\u001b[0m\n\u001b[0m\u001b[1;32m     40\u001b[0m \u001b[0;34m\u001b[0m\u001b[0m\n\u001b[1;32m     41\u001b[0m \u001b[0;34m\u001b[0m\u001b[0m\n",
            "\u001b[0;32m/usr/local/lib/python3.6/dist-packages/google/colab/_message.py\u001b[0m in \u001b[0;36mread_reply_from_input\u001b[0;34m(message_id, timeout_sec)\u001b[0m\n\u001b[1;32m    104\u001b[0m         reply.get('colab_msg_id') == message_id):\n\u001b[1;32m    105\u001b[0m       \u001b[0;32mif\u001b[0m \u001b[0;34m'error'\u001b[0m \u001b[0;32min\u001b[0m \u001b[0mreply\u001b[0m\u001b[0;34m:\u001b[0m\u001b[0;34m\u001b[0m\u001b[0;34m\u001b[0m\u001b[0m\n\u001b[0;32m--> 106\u001b[0;31m         \u001b[0;32mraise\u001b[0m \u001b[0mMessageError\u001b[0m\u001b[0;34m(\u001b[0m\u001b[0mreply\u001b[0m\u001b[0;34m[\u001b[0m\u001b[0;34m'error'\u001b[0m\u001b[0;34m]\u001b[0m\u001b[0;34m)\u001b[0m\u001b[0;34m\u001b[0m\u001b[0;34m\u001b[0m\u001b[0m\n\u001b[0m\u001b[1;32m    107\u001b[0m       \u001b[0;32mreturn\u001b[0m \u001b[0mreply\u001b[0m\u001b[0;34m.\u001b[0m\u001b[0mget\u001b[0m\u001b[0;34m(\u001b[0m\u001b[0;34m'data'\u001b[0m\u001b[0;34m,\u001b[0m \u001b[0;32mNone\u001b[0m\u001b[0;34m)\u001b[0m\u001b[0;34m\u001b[0m\u001b[0;34m\u001b[0m\u001b[0m\n\u001b[1;32m    108\u001b[0m \u001b[0;34m\u001b[0m\u001b[0m\n",
            "\u001b[0;31mMessageError\u001b[0m: TypeError: Failed to fetch"
          ]
        }
      ]
    },
    {
      "cell_type": "code",
      "metadata": {
        "id": "jdHufYDpK7Sj",
        "colab_type": "code",
        "colab": {
          "base_uri": "https://localhost:8080/",
          "height": 442
        },
        "outputId": "afe04d90-71fb-45f6-cdbc-628dfbbb3b9c"
      },
      "source": [
        "files.download(\"/content/train_json_preprocessed.csv\")"
      ],
      "execution_count": 32,
      "outputs": [
        {
          "output_type": "stream",
          "text": [
            "----------------------------------------\n",
            "Exception happened during processing of request from ('::ffff:127.0.0.1', 35930, 0, 0)\n",
            "Traceback (most recent call last):\n",
            "  File \"/usr/lib/python3.6/socketserver.py\", line 320, in _handle_request_noblock\n",
            "    self.process_request(request, client_address)\n",
            "  File \"/usr/lib/python3.6/socketserver.py\", line 351, in process_request\n",
            "    self.finish_request(request, client_address)\n",
            "  File \"/usr/lib/python3.6/socketserver.py\", line 364, in finish_request\n",
            "    self.RequestHandlerClass(request, client_address, self)\n",
            "  File \"/usr/lib/python3.6/socketserver.py\", line 724, in __init__\n",
            "    self.handle()\n",
            "  File \"/usr/lib/python3.6/http/server.py\", line 418, in handle\n",
            "    self.handle_one_request()\n",
            "  File \"/usr/lib/python3.6/http/server.py\", line 406, in handle_one_request\n",
            "    method()\n",
            "  File \"/usr/lib/python3.6/http/server.py\", line 639, in do_GET\n",
            "    self.copyfile(f, self.wfile)\n",
            "  File \"/usr/lib/python3.6/http/server.py\", line 800, in copyfile\n",
            "    shutil.copyfileobj(source, outputfile)\n",
            "  File \"/usr/lib/python3.6/shutil.py\", line 82, in copyfileobj\n",
            "    fdst.write(buf)\n",
            "  File \"/usr/lib/python3.6/socketserver.py\", line 803, in write\n",
            "    self._sock.sendall(b)\n",
            "ConnectionResetError: [Errno 104] Connection reset by peer\n",
            "----------------------------------------\n"
          ],
          "name": "stderr"
        }
      ]
    },
    {
      "cell_type": "code",
      "metadata": {
        "id": "G4kKDmXcOfc8",
        "colab_type": "code",
        "colab": {}
      },
      "source": [
        "from google.colab import files"
      ],
      "execution_count": 0,
      "outputs": []
    },
    {
      "cell_type": "code",
      "metadata": {
        "id": "8H4WHyOcRQY0",
        "colab_type": "code",
        "colab": {
          "base_uri": "https://localhost:8080/",
          "height": 224
        },
        "outputId": "adc48e3d-f074-4860-9625-7aba3072268e"
      },
      "source": [
        "!apt-get install -y -qq software-properties-common python-software-properties module-init-tools\n",
        "!add-apt-repository -y ppa:alessandro-strada/ppa 2>&1 > /dev/null\n",
        "!apt-get update -qq 2>&1 > /dev/null\n",
        "!apt-get -y install -qq google-drive-ocamlfuse fuse\n",
        "from google.colab import auth\n",
        "auth.authenticate_user()\n",
        "from oauth2client.client import GoogleCredentials\n",
        "creds = GoogleCredentials.get_application_default()\n",
        "import getpass\n",
        "!google-drive-ocamlfuse -headless -id={creds.client_id} -secret={creds.client_secret} < /dev/null 2>&1 | grep URL\n",
        "vcode = getpass.getpass()\n",
        "!echo {vcode} | google-drive-ocamlfuse -headless -id={creds.client_id} -secret={creds.client_secret}\n"
      ],
      "execution_count": 36,
      "outputs": [
        {
          "output_type": "stream",
          "text": [
            "E: Package 'python-software-properties' has no installation candidate\n",
            "Selecting previously unselected package google-drive-ocamlfuse.\n",
            "(Reading database ... 135004 files and directories currently installed.)\n",
            "Preparing to unpack .../google-drive-ocamlfuse_0.7.15-0ubuntu1~ubuntu18.04.1_amd64.deb ...\n",
            "Unpacking google-drive-ocamlfuse (0.7.15-0ubuntu1~ubuntu18.04.1) ...\n",
            "Setting up google-drive-ocamlfuse (0.7.15-0ubuntu1~ubuntu18.04.1) ...\n",
            "Processing triggers for man-db (2.8.3-2ubuntu0.1) ...\n",
            "Please, open the following URL in a web browser: https://accounts.google.com/o/oauth2/auth?client_id=32555940559.apps.googleusercontent.com&redirect_uri=urn%3Aietf%3Awg%3Aoauth%3A2.0%3Aoob&scope=https%3A%2F%2Fwww.googleapis.com%2Fauth%2Fdrive&response_type=code&access_type=offline&approval_prompt=force\n",
            "··········\n",
            "Please, open the following URL in a web browser: https://accounts.google.com/o/oauth2/auth?client_id=32555940559.apps.googleusercontent.com&redirect_uri=urn%3Aietf%3Awg%3Aoauth%3A2.0%3Aoob&scope=https%3A%2F%2Fwww.googleapis.com%2Fauth%2Fdrive&response_type=code&access_type=offline&approval_prompt=force\n",
            "Please enter the verification code: Access token retrieved correctly.\n"
          ],
          "name": "stdout"
        }
      ]
    },
    {
      "cell_type": "code",
      "metadata": {
        "id": "55__UHdSTfxz",
        "colab_type": "code",
        "colab": {
          "base_uri": "https://localhost:8080/",
          "height": 51
        },
        "outputId": "345f241d-f45a-4144-83b0-fb55a9fa6189"
      },
      "source": [
        "# drive mean root directory of  google drive\n",
        "!mkdir -p drive\n",
        "!google-drive-ocamlfuse drive\n",
        "!ls drive/\"Colab Notebooks\"/Kaggle"
      ],
      "execution_count": 39,
      "outputs": [
        {
          "output_type": "stream",
          "text": [
            "DataScienceBowl_2019_v1.ipynb  PSI_Tutorial.ipynb  Titanic_v2.ipynb\n",
            "kaggle.json\t\t       Titanic_v1.ipynb\n"
          ],
          "name": "stdout"
        }
      ]
    },
    {
      "cell_type": "code",
      "metadata": {
        "id": "aCrEn6sQRS2b",
        "colab_type": "code",
        "colab": {}
      },
      "source": [
        "train.to_pickle(\"drive/Colab Notebooks/Kaggle/train_json_preprocessed.pickle\")"
      ],
      "execution_count": 0,
      "outputs": []
    },
    {
      "cell_type": "code",
      "metadata": {
        "id": "MCKJxduZTXDq",
        "colab_type": "code",
        "colab": {}
      },
      "source": [
        ""
      ],
      "execution_count": 0,
      "outputs": []
    }
  ]
}